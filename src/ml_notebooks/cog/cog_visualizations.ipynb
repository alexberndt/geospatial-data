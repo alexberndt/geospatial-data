{
 "cells": [
  {
   "cell_type": "markdown",
   "id": "11cd67aa-a374-4175-a204-24445f08699f",
   "metadata": {},
   "source": [
    "# Visualizing COGs\n",
    "\n",
    "_by Alex Berndt 13 Dec 2021_\n",
    "\n",
    "This notebook contains the content from [Development Seed's tiltiler tutorial](https://developmentseed.org/titiler/examples/notebooks/Working_with_STAC/)."
   ]
  },
  {
   "cell_type": "code",
   "execution_count": 3,
   "id": "c2fc1f28-09c6-4e32-a22e-ef242f600a4b",
   "metadata": {},
   "outputs": [
    {
     "name": "stdout",
     "output_type": "stream",
     "text": [
      "Populating the interactive namespace from numpy and matplotlib\n"
     ]
    }
   ],
   "source": [
    "import os\n",
    "import json\n",
    "import base64\n",
    "import httpx\n",
    "import datetime\n",
    "import itertools\n",
    "import urllib.parse\n",
    "\n",
    "from io import BytesIO\n",
    "from functools import partial\n",
    "from concurrent import futures\n",
    "\n",
    "from tqdm.notebook import tqdm\n",
    "\n",
    "from rasterio.plot import reshape_as_image\n",
    "from rasterio.features import bounds as featureBounds\n",
    "\n",
    "from folium import Map, TileLayer, GeoJson\n",
    "\n",
    "%pylab inline"
   ]
  },
  {
   "cell_type": "code",
   "execution_count": 4,
   "id": "32077b06-ee58-4ae6-84cd-6397b25b9c98",
   "metadata": {},
   "outputs": [],
   "source": [
    "# Endpoint variables\n",
    "titiler_endpoint = \"https://titiler.xyz\"  # Developmentseed Demo endpoint. Please be kind.\n",
    "stac_endpoint = \"https://earth-search.aws.element84.com/v0/search\""
   ]
  },
  {
   "cell_type": "code",
   "execution_count": 6,
   "id": "3e2841b8-3449-4130-85f8-5b9d7ec19566",
   "metadata": {},
   "outputs": [
    {
     "data": {
      "text/html": [
       "<div style=\"width:100%;\"><div style=\"position:relative;width:100%;height:0;padding-bottom:60%;\"><span style=\"color:#565656\">Make this Notebook Trusted to load map: File -> Trust Notebook</span><iframe src=\"about:blank\" style=\"position:absolute;width:100%;height:100%;left:0;top:0;border:none !important;\" data-html=%3C%21DOCTYPE%20html%3E%0A%3Chead%3E%20%20%20%20%0A%20%20%20%20%3Cmeta%20http-equiv%3D%22content-type%22%20content%3D%22text/html%3B%20charset%3DUTF-8%22%20/%3E%0A%20%20%20%20%0A%20%20%20%20%20%20%20%20%3Cscript%3E%0A%20%20%20%20%20%20%20%20%20%20%20%20L_NO_TOUCH%20%3D%20false%3B%0A%20%20%20%20%20%20%20%20%20%20%20%20L_DISABLE_3D%20%3D%20false%3B%0A%20%20%20%20%20%20%20%20%3C/script%3E%0A%20%20%20%20%0A%20%20%20%20%3Cstyle%3Ehtml%2C%20body%20%7Bwidth%3A%20100%25%3Bheight%3A%20100%25%3Bmargin%3A%200%3Bpadding%3A%200%3B%7D%3C/style%3E%0A%20%20%20%20%3Cstyle%3E%23map%20%7Bposition%3Aabsolute%3Btop%3A0%3Bbottom%3A0%3Bright%3A0%3Bleft%3A0%3B%7D%3C/style%3E%0A%20%20%20%20%3Cscript%20src%3D%22https%3A//cdn.jsdelivr.net/npm/leaflet%401.6.0/dist/leaflet.js%22%3E%3C/script%3E%0A%20%20%20%20%3Cscript%20src%3D%22https%3A//code.jquery.com/jquery-1.12.4.min.js%22%3E%3C/script%3E%0A%20%20%20%20%3Cscript%20src%3D%22https%3A//maxcdn.bootstrapcdn.com/bootstrap/3.2.0/js/bootstrap.min.js%22%3E%3C/script%3E%0A%20%20%20%20%3Cscript%20src%3D%22https%3A//cdnjs.cloudflare.com/ajax/libs/Leaflet.awesome-markers/2.0.2/leaflet.awesome-markers.js%22%3E%3C/script%3E%0A%20%20%20%20%3Clink%20rel%3D%22stylesheet%22%20href%3D%22https%3A//cdn.jsdelivr.net/npm/leaflet%401.6.0/dist/leaflet.css%22/%3E%0A%20%20%20%20%3Clink%20rel%3D%22stylesheet%22%20href%3D%22https%3A//maxcdn.bootstrapcdn.com/bootstrap/3.2.0/css/bootstrap.min.css%22/%3E%0A%20%20%20%20%3Clink%20rel%3D%22stylesheet%22%20href%3D%22https%3A//maxcdn.bootstrapcdn.com/bootstrap/3.2.0/css/bootstrap-theme.min.css%22/%3E%0A%20%20%20%20%3Clink%20rel%3D%22stylesheet%22%20href%3D%22https%3A//maxcdn.bootstrapcdn.com/font-awesome/4.6.3/css/font-awesome.min.css%22/%3E%0A%20%20%20%20%3Clink%20rel%3D%22stylesheet%22%20href%3D%22https%3A//cdnjs.cloudflare.com/ajax/libs/Leaflet.awesome-markers/2.0.2/leaflet.awesome-markers.css%22/%3E%0A%20%20%20%20%3Clink%20rel%3D%22stylesheet%22%20href%3D%22https%3A//cdn.jsdelivr.net/gh/python-visualization/folium/folium/templates/leaflet.awesome.rotate.min.css%22/%3E%0A%20%20%20%20%0A%20%20%20%20%20%20%20%20%20%20%20%20%3Cmeta%20name%3D%22viewport%22%20content%3D%22width%3Ddevice-width%2C%0A%20%20%20%20%20%20%20%20%20%20%20%20%20%20%20%20initial-scale%3D1.0%2C%20maximum-scale%3D1.0%2C%20user-scalable%3Dno%22%20/%3E%0A%20%20%20%20%20%20%20%20%20%20%20%20%3Cstyle%3E%0A%20%20%20%20%20%20%20%20%20%20%20%20%20%20%20%20%23map_410454eac9094222910fce53f744632f%20%7B%0A%20%20%20%20%20%20%20%20%20%20%20%20%20%20%20%20%20%20%20%20position%3A%20relative%3B%0A%20%20%20%20%20%20%20%20%20%20%20%20%20%20%20%20%20%20%20%20width%3A%20100.0%25%3B%0A%20%20%20%20%20%20%20%20%20%20%20%20%20%20%20%20%20%20%20%20height%3A%20100.0%25%3B%0A%20%20%20%20%20%20%20%20%20%20%20%20%20%20%20%20%20%20%20%20left%3A%200.0%25%3B%0A%20%20%20%20%20%20%20%20%20%20%20%20%20%20%20%20%20%20%20%20top%3A%200.0%25%3B%0A%20%20%20%20%20%20%20%20%20%20%20%20%20%20%20%20%7D%0A%20%20%20%20%20%20%20%20%20%20%20%20%3C/style%3E%0A%20%20%20%20%20%20%20%20%0A%3C/head%3E%0A%3Cbody%3E%20%20%20%20%0A%20%20%20%20%0A%20%20%20%20%20%20%20%20%20%20%20%20%3Cdiv%20class%3D%22folium-map%22%20id%3D%22map_410454eac9094222910fce53f744632f%22%20%3E%3C/div%3E%0A%20%20%20%20%20%20%20%20%0A%3C/body%3E%0A%3Cscript%3E%20%20%20%20%0A%20%20%20%20%0A%20%20%20%20%20%20%20%20%20%20%20%20var%20map_410454eac9094222910fce53f744632f%20%3D%20L.map%28%0A%20%20%20%20%20%20%20%20%20%20%20%20%20%20%20%20%22map_410454eac9094222910fce53f744632f%22%2C%0A%20%20%20%20%20%20%20%20%20%20%20%20%20%20%20%20%7B%0A%20%20%20%20%20%20%20%20%20%20%20%20%20%20%20%20%20%20%20%20center%3A%20%5B47.4%2C%207.35%5D%2C%0A%20%20%20%20%20%20%20%20%20%20%20%20%20%20%20%20%20%20%20%20crs%3A%20L.CRS.EPSG3857%2C%0A%20%20%20%20%20%20%20%20%20%20%20%20%20%20%20%20%20%20%20%20zoom%3A%2011%2C%0A%20%20%20%20%20%20%20%20%20%20%20%20%20%20%20%20%20%20%20%20zoomControl%3A%20true%2C%0A%20%20%20%20%20%20%20%20%20%20%20%20%20%20%20%20%20%20%20%20preferCanvas%3A%20false%2C%0A%20%20%20%20%20%20%20%20%20%20%20%20%20%20%20%20%7D%0A%20%20%20%20%20%20%20%20%20%20%20%20%29%3B%0A%0A%20%20%20%20%20%20%20%20%20%20%20%20%0A%0A%20%20%20%20%20%20%20%20%0A%20%20%20%20%0A%20%20%20%20%20%20%20%20%20%20%20%20var%20tile_layer_0e784caa69d64f84af2f0e8ae5c9ba13%20%3D%20L.tileLayer%28%0A%20%20%20%20%20%20%20%20%20%20%20%20%20%20%20%20%22https%3A//%7Bs%7D.tile.openstreetmap.org/%7Bz%7D/%7Bx%7D/%7By%7D.png%22%2C%0A%20%20%20%20%20%20%20%20%20%20%20%20%20%20%20%20%7B%22attribution%22%3A%20%22Data%20by%20%5Cu0026copy%3B%20%5Cu003ca%20href%3D%5C%22http%3A//openstreetmap.org%5C%22%5Cu003eOpenStreetMap%5Cu003c/a%5Cu003e%2C%20under%20%5Cu003ca%20href%3D%5C%22http%3A//www.openstreetmap.org/copyright%5C%22%5Cu003eODbL%5Cu003c/a%5Cu003e.%22%2C%20%22detectRetina%22%3A%20false%2C%20%22maxNativeZoom%22%3A%2018%2C%20%22maxZoom%22%3A%2018%2C%20%22minZoom%22%3A%200%2C%20%22noWrap%22%3A%20false%2C%20%22opacity%22%3A%201%2C%20%22subdomains%22%3A%20%22abc%22%2C%20%22tms%22%3A%20false%7D%0A%20%20%20%20%20%20%20%20%20%20%20%20%29.addTo%28map_410454eac9094222910fce53f744632f%29%3B%0A%20%20%20%20%20%20%20%20%0A%20%20%20%20%0A%0A%20%20%20%20%20%20%20%20function%20geo_json_bec885957ec44e1ebb2eb34f6252b6c5_onEachFeature%28feature%2C%20layer%29%20%7B%0A%20%20%20%20%20%20%20%20%20%20%20%20layer.on%28%7B%0A%20%20%20%20%20%20%20%20%20%20%20%20%7D%29%3B%0A%20%20%20%20%20%20%20%20%7D%3B%0A%20%20%20%20%20%20%20%20var%20geo_json_bec885957ec44e1ebb2eb34f6252b6c5%20%3D%20L.geoJson%28null%2C%20%7B%0A%20%20%20%20%20%20%20%20%20%20%20%20%20%20%20%20onEachFeature%3A%20geo_json_bec885957ec44e1ebb2eb34f6252b6c5_onEachFeature%2C%0A%20%20%20%20%20%20%20%20%20%20%20%20%0A%20%20%20%20%20%20%20%20%7D%29%3B%0A%0A%20%20%20%20%20%20%20%20function%20geo_json_bec885957ec44e1ebb2eb34f6252b6c5_add%20%28data%29%20%7B%0A%20%20%20%20%20%20%20%20%20%20%20%20geo_json_bec885957ec44e1ebb2eb34f6252b6c5%0A%20%20%20%20%20%20%20%20%20%20%20%20%20%20%20%20.addData%28data%29%0A%20%20%20%20%20%20%20%20%20%20%20%20%20%20%20%20.addTo%28map_410454eac9094222910fce53f744632f%29%3B%0A%20%20%20%20%20%20%20%20%7D%0A%20%20%20%20%20%20%20%20%20%20%20%20geo_json_bec885957ec44e1ebb2eb34f6252b6c5_add%28%7B%22features%22%3A%20%5B%7B%22geometry%22%3A%20%7B%22coordinates%22%3A%20%5B%5B%5B7.2%2C%2047.0%5D%2C%20%5B7.5%2C%2047.0%5D%2C%20%5B7.5%2C%2047.8%5D%2C%20%5B7.2%2C%2047.8%5D%2C%20%5B7.2%2C%2047.0%5D%5D%5D%2C%20%22type%22%3A%20%22Polygon%22%7D%2C%20%22properties%22%3A%20%7B%7D%2C%20%22type%22%3A%20%22Feature%22%7D%5D%2C%20%22type%22%3A%20%22FeatureCollection%22%7D%29%3B%0A%0A%20%20%20%20%20%20%20%20%0A%3C/script%3E onload=\"this.contentDocument.open();this.contentDocument.write(    decodeURIComponent(this.getAttribute('data-html')));this.contentDocument.close();\" allowfullscreen webkitallowfullscreen mozallowfullscreen></iframe></div></div>"
      ],
      "text/plain": [
       "<folium.folium.Map at 0x7f2cca961d00>"
      ]
     },
     "execution_count": 6,
     "metadata": {},
     "output_type": "execute_result"
    }
   ],
   "source": [
    "geojson = {\n",
    "  \"type\": \"FeatureCollection\",\n",
    "  \"features\": [\n",
    "    {\n",
    "      \"type\": \"Feature\",\n",
    "      \"properties\": {},\n",
    "      \"geometry\": {\n",
    "        \"type\": \"Polygon\",\n",
    "        \"coordinates\": [\n",
    "            [\n",
    "                [7.2, 47.0],\n",
    "                [7.5, 47.0],\n",
    "                [7.5, 47.8],\n",
    "                [7.2, 47.8],\n",
    "                [7.2, 47.0],\n",
    "            ]\n",
    "        ]\n",
    "      }\n",
    "    }\n",
    "  ]\n",
    "}\n",
    "\n",
    "bounds = featureBounds(geojson)\n",
    "\n",
    "m = Map(\n",
    "    tiles=\"OpenStreetMap\",\n",
    "    location=((bounds[1] + bounds[3]) / 2,(bounds[0] + bounds[2]) / 2),\n",
    "    zoom_start=11\n",
    ")\n",
    "\n",
    "geo_json = GeoJson(data=geojson)\n",
    "geo_json.add_to(m)\n",
    "m"
   ]
  },
  {
   "cell_type": "code",
   "execution_count": 7,
   "id": "eea98388-0bc2-48ab-8504-bc023223444d",
   "metadata": {},
   "outputs": [
    {
     "name": "stdout",
     "output_type": "stream",
     "text": [
      "Results context:\n",
      "{'page': 1, 'limit': 100, 'matched': 8, 'returned': 8}\n",
      "\n",
      "Example of item:\n",
      "{\n",
      "    \"bbox\": [\n",
      "        6.327940566386946,\n",
      "        46.83565300363223,\n",
      "        7.816635152887526,\n",
      "        47.847362016092674\n",
      "    ],\n",
      "    \"geometry\": {\n",
      "        \"coordinates\": [\n",
      "            [\n",
      "                [\n",
      "                    6.3772930240597825,\n",
      "                    46.83565300363223\n",
      "                ],\n",
      "                [\n",
      "                    6.327940566386946,\n",
      "                    47.82258645001515\n",
      "                ],\n",
      "                [\n",
      "                    7.794341834105548,\n",
      "                    47.847362016092674\n",
      "                ],\n",
      "                [\n",
      "                    7.816635152887526,\n",
      "                    46.8595919448329\n",
      "                ],\n",
      "                [\n",
      "                    6.3772930240597825,\n",
      "                    46.83565300363223\n",
      "                ]\n",
      "            ]\n",
      "        ],\n",
      "        \"type\": \"Polygon\"\n",
      "    },\n",
      "    \"id\": \"S2A_32TLT_20190917_0_L2A\",\n",
      "    \"collection\": \"sentinel-s2-l2a-cogs\",\n",
      "    \"type\": \"Feature\",\n",
      "    \"properties\": {\n",
      "        \"datetime\": \"2019-09-17T10:37:49Z\",\n",
      "        \"eo:cloud_cover\": 1.02\n",
      "    }\n",
      "}\n"
     ]
    }
   ],
   "source": [
    "start = datetime.datetime.strptime(\"2019-08-01\", \"%Y-%m-%d\").strftime(\"%Y-%m-%dT00:00:00Z\")\n",
    "end = datetime.datetime.strptime(\"2019-12-11\", \"%Y-%m-%d\").strftime(\"%Y-%m-%dT23:59:59Z\")\n",
    "\n",
    "# POST body\n",
    "query = {\n",
    "    \"collections\": [\"sentinel-s2-l2a-cogs\"],\n",
    "    \"datetime\": f\"{start}/{end}\",\n",
    "    \"query\": {\n",
    "        \"eo:cloud_cover\": {\n",
    "            \"lt\": 5\n",
    "        }\n",
    "    },\n",
    "    \"intersects\": geojson[\"features\"][0][\"geometry\"],\n",
    "    \"limit\": 100,\n",
    "    \"fields\": {\n",
    "      'include': ['id', 'properties.datetime', 'properties.eo:cloud_cover'],  # This will limit the size of returned body\n",
    "      'exclude': ['assets', 'links']  # This will limit the size of returned body\n",
    "    }\n",
    "}\n",
    "\n",
    "# POST Headers\n",
    "headers = {\n",
    "    \"Content-Type\": \"application/json\",\n",
    "    \"Accept-Encoding\": \"gzip\",\n",
    "    \"Accept\": \"application/geo+json\",\n",
    "}\n",
    "\n",
    "data = httpx.post(stac_endpoint, headers=headers, json=query).json()\n",
    "print(\"Results context:\")\n",
    "print(data[\"context\"])\n",
    "print()\n",
    "print(\"Example of item:\")\n",
    "print(json.dumps(data[\"features\"][0], indent=4))\n",
    "\n",
    "sceneid = [f[\"id\"] for f in data[\"features\"]]\n",
    "cloudcover = [f[\"properties\"][\"eo:cloud_cover\"] for f in data[\"features\"]]\n",
    "dates = [f[\"properties\"][\"datetime\"][0:10] for f in data[\"features\"]]"
   ]
  },
  {
   "cell_type": "code",
   "execution_count": 8,
   "id": "929f5568-c18f-4168-b9db-11004371a774",
   "metadata": {},
   "outputs": [
    {
     "data": {
      "text/html": [
       "<div style=\"width:100%;\"><div style=\"position:relative;width:100%;height:0;padding-bottom:60%;\"><span style=\"color:#565656\">Make this Notebook Trusted to load map: File -> Trust Notebook</span><iframe src=\"about:blank\" style=\"position:absolute;width:100%;height:100%;left:0;top:0;border:none !important;\" data-html=%3C%21DOCTYPE%20html%3E%0A%3Chead%3E%20%20%20%20%0A%20%20%20%20%3Cmeta%20http-equiv%3D%22content-type%22%20content%3D%22text/html%3B%20charset%3DUTF-8%22%20/%3E%0A%20%20%20%20%0A%20%20%20%20%20%20%20%20%3Cscript%3E%0A%20%20%20%20%20%20%20%20%20%20%20%20L_NO_TOUCH%20%3D%20false%3B%0A%20%20%20%20%20%20%20%20%20%20%20%20L_DISABLE_3D%20%3D%20false%3B%0A%20%20%20%20%20%20%20%20%3C/script%3E%0A%20%20%20%20%0A%20%20%20%20%3Cstyle%3Ehtml%2C%20body%20%7Bwidth%3A%20100%25%3Bheight%3A%20100%25%3Bmargin%3A%200%3Bpadding%3A%200%3B%7D%3C/style%3E%0A%20%20%20%20%3Cstyle%3E%23map%20%7Bposition%3Aabsolute%3Btop%3A0%3Bbottom%3A0%3Bright%3A0%3Bleft%3A0%3B%7D%3C/style%3E%0A%20%20%20%20%3Cscript%20src%3D%22https%3A//cdn.jsdelivr.net/npm/leaflet%401.6.0/dist/leaflet.js%22%3E%3C/script%3E%0A%20%20%20%20%3Cscript%20src%3D%22https%3A//code.jquery.com/jquery-1.12.4.min.js%22%3E%3C/script%3E%0A%20%20%20%20%3Cscript%20src%3D%22https%3A//maxcdn.bootstrapcdn.com/bootstrap/3.2.0/js/bootstrap.min.js%22%3E%3C/script%3E%0A%20%20%20%20%3Cscript%20src%3D%22https%3A//cdnjs.cloudflare.com/ajax/libs/Leaflet.awesome-markers/2.0.2/leaflet.awesome-markers.js%22%3E%3C/script%3E%0A%20%20%20%20%3Clink%20rel%3D%22stylesheet%22%20href%3D%22https%3A//cdn.jsdelivr.net/npm/leaflet%401.6.0/dist/leaflet.css%22/%3E%0A%20%20%20%20%3Clink%20rel%3D%22stylesheet%22%20href%3D%22https%3A//maxcdn.bootstrapcdn.com/bootstrap/3.2.0/css/bootstrap.min.css%22/%3E%0A%20%20%20%20%3Clink%20rel%3D%22stylesheet%22%20href%3D%22https%3A//maxcdn.bootstrapcdn.com/bootstrap/3.2.0/css/bootstrap-theme.min.css%22/%3E%0A%20%20%20%20%3Clink%20rel%3D%22stylesheet%22%20href%3D%22https%3A//maxcdn.bootstrapcdn.com/font-awesome/4.6.3/css/font-awesome.min.css%22/%3E%0A%20%20%20%20%3Clink%20rel%3D%22stylesheet%22%20href%3D%22https%3A//cdnjs.cloudflare.com/ajax/libs/Leaflet.awesome-markers/2.0.2/leaflet.awesome-markers.css%22/%3E%0A%20%20%20%20%3Clink%20rel%3D%22stylesheet%22%20href%3D%22https%3A//cdn.jsdelivr.net/gh/python-visualization/folium/folium/templates/leaflet.awesome.rotate.min.css%22/%3E%0A%20%20%20%20%0A%20%20%20%20%20%20%20%20%20%20%20%20%3Cmeta%20name%3D%22viewport%22%20content%3D%22width%3Ddevice-width%2C%0A%20%20%20%20%20%20%20%20%20%20%20%20%20%20%20%20initial-scale%3D1.0%2C%20maximum-scale%3D1.0%2C%20user-scalable%3Dno%22%20/%3E%0A%20%20%20%20%20%20%20%20%20%20%20%20%3Cstyle%3E%0A%20%20%20%20%20%20%20%20%20%20%20%20%20%20%20%20%23map_984e913b38e04ba3a1aa86d05a833e3f%20%7B%0A%20%20%20%20%20%20%20%20%20%20%20%20%20%20%20%20%20%20%20%20position%3A%20relative%3B%0A%20%20%20%20%20%20%20%20%20%20%20%20%20%20%20%20%20%20%20%20width%3A%20100.0%25%3B%0A%20%20%20%20%20%20%20%20%20%20%20%20%20%20%20%20%20%20%20%20height%3A%20100.0%25%3B%0A%20%20%20%20%20%20%20%20%20%20%20%20%20%20%20%20%20%20%20%20left%3A%200.0%25%3B%0A%20%20%20%20%20%20%20%20%20%20%20%20%20%20%20%20%20%20%20%20top%3A%200.0%25%3B%0A%20%20%20%20%20%20%20%20%20%20%20%20%20%20%20%20%7D%0A%20%20%20%20%20%20%20%20%20%20%20%20%3C/style%3E%0A%20%20%20%20%20%20%20%20%0A%3C/head%3E%0A%3Cbody%3E%20%20%20%20%0A%20%20%20%20%0A%20%20%20%20%20%20%20%20%20%20%20%20%3Cdiv%20class%3D%22folium-map%22%20id%3D%22map_984e913b38e04ba3a1aa86d05a833e3f%22%20%3E%3C/div%3E%0A%20%20%20%20%20%20%20%20%0A%3C/body%3E%0A%3Cscript%3E%20%20%20%20%0A%20%20%20%20%0A%20%20%20%20%20%20%20%20%20%20%20%20var%20map_984e913b38e04ba3a1aa86d05a833e3f%20%3D%20L.map%28%0A%20%20%20%20%20%20%20%20%20%20%20%20%20%20%20%20%22map_984e913b38e04ba3a1aa86d05a833e3f%22%2C%0A%20%20%20%20%20%20%20%20%20%20%20%20%20%20%20%20%7B%0A%20%20%20%20%20%20%20%20%20%20%20%20%20%20%20%20%20%20%20%20center%3A%20%5B47.4%2C%207.35%5D%2C%0A%20%20%20%20%20%20%20%20%20%20%20%20%20%20%20%20%20%20%20%20crs%3A%20L.CRS.EPSG3857%2C%0A%20%20%20%20%20%20%20%20%20%20%20%20%20%20%20%20%20%20%20%20zoom%3A%208%2C%0A%20%20%20%20%20%20%20%20%20%20%20%20%20%20%20%20%20%20%20%20zoomControl%3A%20true%2C%0A%20%20%20%20%20%20%20%20%20%20%20%20%20%20%20%20%20%20%20%20preferCanvas%3A%20false%2C%0A%20%20%20%20%20%20%20%20%20%20%20%20%20%20%20%20%7D%0A%20%20%20%20%20%20%20%20%20%20%20%20%29%3B%0A%0A%20%20%20%20%20%20%20%20%20%20%20%20%0A%0A%20%20%20%20%20%20%20%20%0A%20%20%20%20%0A%20%20%20%20%20%20%20%20%20%20%20%20var%20tile_layer_490e64bde9894b39a8052cd60d781202%20%3D%20L.tileLayer%28%0A%20%20%20%20%20%20%20%20%20%20%20%20%20%20%20%20%22https%3A//%7Bs%7D.tile.openstreetmap.org/%7Bz%7D/%7Bx%7D/%7By%7D.png%22%2C%0A%20%20%20%20%20%20%20%20%20%20%20%20%20%20%20%20%7B%22attribution%22%3A%20%22Data%20by%20%5Cu0026copy%3B%20%5Cu003ca%20href%3D%5C%22http%3A//openstreetmap.org%5C%22%5Cu003eOpenStreetMap%5Cu003c/a%5Cu003e%2C%20under%20%5Cu003ca%20href%3D%5C%22http%3A//www.openstreetmap.org/copyright%5C%22%5Cu003eODbL%5Cu003c/a%5Cu003e.%22%2C%20%22detectRetina%22%3A%20false%2C%20%22maxNativeZoom%22%3A%2018%2C%20%22maxZoom%22%3A%2018%2C%20%22minZoom%22%3A%200%2C%20%22noWrap%22%3A%20false%2C%20%22opacity%22%3A%201%2C%20%22subdomains%22%3A%20%22abc%22%2C%20%22tms%22%3A%20false%7D%0A%20%20%20%20%20%20%20%20%20%20%20%20%29.addTo%28map_984e913b38e04ba3a1aa86d05a833e3f%29%3B%0A%20%20%20%20%20%20%20%20%0A%20%20%20%20%0A%20%20%20%20%20%20%20%20function%20geo_json_dfcfa59173ac4eff8771e1c38f7bf0dc_styler%28feature%29%20%7B%0A%20%20%20%20%20%20%20%20%20%20%20%20switch%28feature.id%29%20%7B%0A%20%20%20%20%20%20%20%20%20%20%20%20%20%20%20%20default%3A%0A%20%20%20%20%20%20%20%20%20%20%20%20%20%20%20%20%20%20%20%20return%20%7B%22dashArray%22%3A%20%221%22%2C%20%22fillOpacity%22%3A%200%2C%20%22opacity%22%3A%201%2C%20%22weight%22%3A%201%7D%3B%0A%20%20%20%20%20%20%20%20%20%20%20%20%7D%0A%20%20%20%20%20%20%20%20%7D%0A%0A%20%20%20%20%20%20%20%20function%20geo_json_dfcfa59173ac4eff8771e1c38f7bf0dc_onEachFeature%28feature%2C%20layer%29%20%7B%0A%20%20%20%20%20%20%20%20%20%20%20%20layer.on%28%7B%0A%20%20%20%20%20%20%20%20%20%20%20%20%7D%29%3B%0A%20%20%20%20%20%20%20%20%7D%3B%0A%20%20%20%20%20%20%20%20var%20geo_json_dfcfa59173ac4eff8771e1c38f7bf0dc%20%3D%20L.geoJson%28null%2C%20%7B%0A%20%20%20%20%20%20%20%20%20%20%20%20%20%20%20%20onEachFeature%3A%20geo_json_dfcfa59173ac4eff8771e1c38f7bf0dc_onEachFeature%2C%0A%20%20%20%20%20%20%20%20%20%20%20%20%0A%20%20%20%20%20%20%20%20%20%20%20%20%20%20%20%20style%3A%20geo_json_dfcfa59173ac4eff8771e1c38f7bf0dc_styler%2C%0A%20%20%20%20%20%20%20%20%7D%29%3B%0A%0A%20%20%20%20%20%20%20%20function%20geo_json_dfcfa59173ac4eff8771e1c38f7bf0dc_add%20%28data%29%20%7B%0A%20%20%20%20%20%20%20%20%20%20%20%20geo_json_dfcfa59173ac4eff8771e1c38f7bf0dc%0A%20%20%20%20%20%20%20%20%20%20%20%20%20%20%20%20.addData%28data%29%0A%20%20%20%20%20%20%20%20%20%20%20%20%20%20%20%20.addTo%28map_984e913b38e04ba3a1aa86d05a833e3f%29%3B%0A%20%20%20%20%20%20%20%20%7D%0A%20%20%20%20%20%20%20%20%20%20%20%20geo_json_dfcfa59173ac4eff8771e1c38f7bf0dc_add%28%7B%22context%22%3A%20%7B%22limit%22%3A%20100%2C%20%22matched%22%3A%208%2C%20%22page%22%3A%201%2C%20%22returned%22%3A%208%7D%2C%20%22features%22%3A%20%5B%7B%22bbox%22%3A%20%5B6.327940566386946%2C%2046.83565300363223%2C%207.816635152887526%2C%2047.847362016092674%5D%2C%20%22collection%22%3A%20%22sentinel-s2-l2a-cogs%22%2C%20%22geometry%22%3A%20%7B%22coordinates%22%3A%20%5B%5B%5B6.3772930240597825%2C%2046.83565300363223%5D%2C%20%5B6.327940566386946%2C%2047.82258645001515%5D%2C%20%5B7.794341834105548%2C%2047.847362016092674%5D%2C%20%5B7.816635152887526%2C%2046.8595919448329%5D%2C%20%5B6.3772930240597825%2C%2046.83565300363223%5D%5D%5D%2C%20%22type%22%3A%20%22Polygon%22%7D%2C%20%22id%22%3A%20%22S2A_32TLT_20190917_0_L2A%22%2C%20%22properties%22%3A%20%7B%22datetime%22%3A%20%222019-09-17T10%3A37%3A49Z%22%2C%20%22eo%3Acloud_cover%22%3A%201.02%7D%2C%20%22type%22%3A%20%22Feature%22%7D%2C%20%7B%22bbox%22%3A%20%5B6.327940566386946%2C%2046.83565300363223%2C%207.816635152887526%2C%2047.847362016092674%5D%2C%20%22collection%22%3A%20%22sentinel-s2-l2a-cogs%22%2C%20%22geometry%22%3A%20%7B%22coordinates%22%3A%20%5B%5B%5B6.3772930240597825%2C%2046.83565300363223%5D%2C%20%5B6.327940566386946%2C%2047.82258645001515%5D%2C%20%5B7.794341834105548%2C%2047.847362016092674%5D%2C%20%5B7.816635152887526%2C%2046.8595919448329%5D%2C%20%5B6.3772930240597825%2C%2046.83565300363223%5D%5D%5D%2C%20%22type%22%3A%20%22Polygon%22%7D%2C%20%22id%22%3A%20%22S2B_32TLT_20190912_0_L2A%22%2C%20%22properties%22%3A%20%7B%22datetime%22%3A%20%222019-09-12T10%3A37%3A50Z%22%2C%20%22eo%3Acloud_cover%22%3A%200%7D%2C%20%22type%22%3A%20%22Feature%22%7D%2C%20%7B%22bbox%22%3A%20%5B6.280655570350403%2C%2047.73416489960828%2C%207.796388154117646%2C%2048.74647130547905%5D%2C%20%22collection%22%3A%20%22sentinel-s2-l2a-cogs%22%2C%20%22geometry%22%3A%20%7B%22coordinates%22%3A%20%5B%5B%5B6.33247053370538%2C%2047.73416489960828%5D%2C%20%5B6.280655570350403%2C%2048.72090620383072%5D%2C%20%5B7.772981083304639%2C%2048.74647130547905%5D%2C%20%5B7.796388154117646%2C%2047.75886422773687%5D%2C%20%5B6.33247053370538%2C%2047.73416489960828%5D%5D%5D%2C%20%22type%22%3A%20%22Polygon%22%7D%2C%20%22id%22%3A%20%22S2B_32ULU_20190912_0_L2A%22%2C%20%22properties%22%3A%20%7B%22datetime%22%3A%20%222019-09-12T10%3A37%3A36Z%22%2C%20%22eo%3Acloud_cover%22%3A%201.14%7D%2C%20%22type%22%3A%20%22Feature%22%7D%2C%20%7B%22bbox%22%3A%20%5B6.327940566386946%2C%2046.83565300363223%2C%207.816635152887526%2C%2047.847362016092674%5D%2C%20%22collection%22%3A%20%22sentinel-s2-l2a-cogs%22%2C%20%22geometry%22%3A%20%7B%22coordinates%22%3A%20%5B%5B%5B6.3772930240597825%2C%2046.83565300363223%5D%2C%20%5B6.327940566386946%2C%2047.82258645001515%5D%2C%20%5B7.794341834105548%2C%2047.847362016092674%5D%2C%20%5B7.816635152887526%2C%2046.8595919448329%5D%2C%20%5B6.3772930240597825%2C%2046.83565300363223%5D%5D%5D%2C%20%22type%22%3A%20%22Polygon%22%7D%2C%20%22id%22%3A%20%22S2A_32TLT_20190828_0_L2A%22%2C%20%22properties%22%3A%20%7B%22datetime%22%3A%20%222019-08-28T10%3A37%3A51Z%22%2C%20%22eo%3Acloud_cover%22%3A%203.7%7D%2C%20%22type%22%3A%20%22Feature%22%7D%2C%20%7B%22bbox%22%3A%20%5B6.280655570350403%2C%2047.73416489960828%2C%207.796388154117646%2C%2048.74647130547905%5D%2C%20%22collection%22%3A%20%22sentinel-s2-l2a-cogs%22%2C%20%22geometry%22%3A%20%7B%22coordinates%22%3A%20%5B%5B%5B6.33247053370538%2C%2047.73416489960828%5D%2C%20%5B6.280655570350403%2C%2048.72090620383072%5D%2C%20%5B7.772981083304639%2C%2048.74647130547905%5D%2C%20%5B7.796388154117646%2C%2047.75886422773687%5D%2C%20%5B6.33247053370538%2C%2047.73416489960828%5D%5D%5D%2C%20%22type%22%3A%20%22Polygon%22%7D%2C%20%22id%22%3A%20%22S2B_32ULU_20190823_0_L2A%22%2C%20%22properties%22%3A%20%7B%22datetime%22%3A%20%222019-08-23T10%3A37%3A40Z%22%2C%20%22eo%3Acloud_cover%22%3A%200.38%7D%2C%20%22type%22%3A%20%22Feature%22%7D%2C%20%7B%22bbox%22%3A%20%5B6.327940566386946%2C%2046.83565300363223%2C%207.816635152887526%2C%2047.847362016092674%5D%2C%20%22collection%22%3A%20%22sentinel-s2-l2a-cogs%22%2C%20%22geometry%22%3A%20%7B%22coordinates%22%3A%20%5B%5B%5B6.3772930240597825%2C%2046.83565300363223%5D%2C%20%5B6.327940566386946%2C%2047.82258645001515%5D%2C%20%5B7.794341834105548%2C%2047.847362016092674%5D%2C%20%5B7.816635152887526%2C%2046.8595919448329%5D%2C%20%5B6.3772930240597825%2C%2046.83565300363223%5D%5D%5D%2C%20%22type%22%3A%20%22Polygon%22%7D%2C%20%22id%22%3A%20%22S2A_32TLT_20190818_0_L2A%22%2C%20%22properties%22%3A%20%7B%22datetime%22%3A%20%222019-08-18T10%3A37%3A52Z%22%2C%20%22eo%3Acloud_cover%22%3A%204.73%7D%2C%20%22type%22%3A%20%22Feature%22%7D%2C%20%7B%22bbox%22%3A%20%5B6.280655570350403%2C%2047.73416489960828%2C%207.796388154117646%2C%2048.74647130547905%5D%2C%20%22collection%22%3A%20%22sentinel-s2-l2a-cogs%22%2C%20%22geometry%22%3A%20%7B%22coordinates%22%3A%20%5B%5B%5B6.33247053370538%2C%2047.73416489960828%5D%2C%20%5B6.280655570350403%2C%2048.72090620383072%5D%2C%20%5B7.772981083304639%2C%2048.74647130547905%5D%2C%20%5B7.796388154117646%2C%2047.75886422773687%5D%2C%20%5B6.33247053370538%2C%2047.73416489960828%5D%5D%5D%2C%20%22type%22%3A%20%22Polygon%22%7D%2C%20%22id%22%3A%20%22S2A_32ULU_20190818_0_L2A%22%2C%20%22properties%22%3A%20%7B%22datetime%22%3A%20%222019-08-18T10%3A37%3A38Z%22%2C%20%22eo%3Acloud_cover%22%3A%202.28%7D%2C%20%22type%22%3A%20%22Feature%22%7D%2C%20%7B%22bbox%22%3A%20%5B6.327940566386946%2C%2046.83565300363223%2C%207.816635152887526%2C%2047.847362016092674%5D%2C%20%22collection%22%3A%20%22sentinel-s2-l2a-cogs%22%2C%20%22geometry%22%3A%20%7B%22coordinates%22%3A%20%5B%5B%5B6.3772930240597825%2C%2046.83565300363223%5D%2C%20%5B6.327940566386946%2C%2047.82258645001515%5D%2C%20%5B7.794341834105548%2C%2047.847362016092674%5D%2C%20%5B7.816635152887526%2C%2046.8595919448329%5D%2C%20%5B6.3772930240597825%2C%2046.83565300363223%5D%5D%5D%2C%20%22type%22%3A%20%22Polygon%22%7D%2C%20%22id%22%3A%20%22S2A_32TLT_20190808_0_L2A%22%2C%20%22properties%22%3A%20%7B%22datetime%22%3A%20%222019-08-08T10%3A37%3A54Z%22%2C%20%22eo%3Acloud_cover%22%3A%201.9%7D%2C%20%22type%22%3A%20%22Feature%22%7D%5D%2C%20%22links%22%3A%20%5B%5D%2C%20%22numberMatched%22%3A%208%2C%20%22numberReturned%22%3A%208%2C%20%22stac_extensions%22%3A%20%5B%5D%2C%20%22stac_version%22%3A%20%221.0.0-beta.2%22%2C%20%22type%22%3A%20%22FeatureCollection%22%7D%29%3B%0A%0A%20%20%20%20%20%20%20%20%0A%3C/script%3E onload=\"this.contentDocument.open();this.contentDocument.write(    decodeURIComponent(this.getAttribute('data-html')));this.contentDocument.close();\" allowfullscreen webkitallowfullscreen mozallowfullscreen></iframe></div></div>"
      ],
      "text/plain": [
       "<folium.folium.Map at 0x7f2cca961610>"
      ]
     },
     "execution_count": 8,
     "metadata": {},
     "output_type": "execute_result"
    }
   ],
   "source": [
    "m = Map(\n",
    "    tiles=\"OpenStreetMap\",\n",
    "    location=((bounds[1] + bounds[3]) / 2,(bounds[0] + bounds[2]) / 2),\n",
    "    zoom_start=8\n",
    ")\n",
    "\n",
    "geo_json = GeoJson(\n",
    "    data=data,\n",
    "    style_function=lambda x: {\n",
    "        'opacity': 1, 'dashArray': '1', 'fillOpacity': 0, 'weight': 1\n",
    "    },\n",
    ")\n",
    "geo_json.add_to(m)\n",
    "m"
   ]
  },
  {
   "cell_type": "code",
   "execution_count": 9,
   "id": "145275c3-e664-48be-8dc1-4abd9693786c",
   "metadata": {},
   "outputs": [
    {
     "data": {
      "text/plain": [
       "<matplotlib.legend.Legend at 0x7f2cb7a5c400>"
      ]
     },
     "execution_count": 9,
     "metadata": {},
     "output_type": "execute_result"
    },
    {
     "data": {
      "image/png": "[encoded data removed]",
      "text/plain": [
       "<Figure size 600x400 with 1 Axes>"
      ]
     },
     "metadata": {
      "needs_background": "light"
     },
     "output_type": "display_data"
    }
   ],
   "source": [
    "fig = plt.figure(dpi=100)\n",
    "fig.autofmt_xdate()\n",
    "ax = fig.add_subplot(1, 1, 1)\n",
    "ax.plot(dates, cloudcover, label=\"Cloud Cover\", color=\"tab:red\", linewidth=0.4, linestyle=\"-.\")\n",
    "\n",
    "ax.legend()"
   ]
  },
  {
   "cell_type": "code",
   "execution_count": 10,
   "id": "59d1d8de-5fb1-4e8a-badb-1aca6fc4ef4f",
   "metadata": {},
   "outputs": [],
   "source": [
    "url_template = \"https://earth-search.aws.element84.com/v0/collections/sentinel-s2-l2a-cogs/items/{id}\"\n"
   ]
  },
  {
   "cell_type": "code",
   "execution_count": null,
   "id": "9616b7ee-b407-435e-aee5-91375b1d6a76",
   "metadata": {},
   "outputs": [],
   "source": [
    "# Get Tile URL\n",
    "r = httpx.get(\n",
    "    f\"{titiler_endpoint}/stac/tilejson.json\",\n",
    "    params = (\n",
    "        (\"url\", url_template.format(id=sceneid[0])),\n",
    "        # Simple RGB combination (True Color)\n",
    "        (\"assets\", \"B04\"),\n",
    "        (\"assets\", \"B03\"),\n",
    "        (\"assets\", \"B02\"),\n",
    "        (\"color_formula\", \"Gamma RGB 3.5 Saturation 1.7 Sigmoidal RGB 15 0.35\"),  # We use a rio-color formula to make the tiles look nice\n",
    "        (\"minzoom\", 8),  # By default titiler will use 0\n",
    "        (\"maxzoom\", 14), # By default titiler will use 24\n",
    "    )\n",
    ").json()\n",
    "print(r)\n",
    "\n",
    "m = Map(\n",
    "    location=((bounds[1] + bounds[3]) / 2,(bounds[0] + bounds[2]) / 2),\n",
    "    zoom_start=10\n",
    ")\n",
    "\n",
    "tiles = TileLayer(\n",
    "    tiles=r[\"tiles\"][0],\n",
    "    min_zoom=r[\"minzoom\"],\n",
    "    max_zoom=r[\"maxzoom\"],\n",
    "    opacity=1,\n",
    "    attr=\"Digital Earth Africa\"\n",
    ")\n",
    "tiles.add_to(m)\n",
    "m"
   ]
  }
 ],
 "metadata": {
  "kernelspec": {
   "display_name": "Python 3",
   "language": "python",
   "name": "python3"
  },
  "language_info": {
   "codemirror_mode": {
    "name": "ipython",
    "version": 3
   },
   "file_extension": ".py",
   "mimetype": "text/x-python",
   "name": "python",
   "nbconvert_exporter": "python",
   "pygments_lexer": "ipython3",
   "version": "3.9.7"
  }
 },
 "nbformat": 4,
 "nbformat_minor": 5
}
