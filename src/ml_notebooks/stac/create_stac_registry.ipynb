{
 "cells": [
  {
   "cell_type": "code",
   "execution_count": 2,
   "id": "0f1494a6-7ff6-41c2-81c3-8d45dc84444c",
   "metadata": {},
   "outputs": [],
   "source": [
    "import pystac"
   ]
  },
  {
   "cell_type": "code",
   "execution_count": 4,
   "id": "17840624-8212-4a2b-b2ac-620a731651fd",
   "metadata": {},
   "outputs": [],
   "source": [
    "catalog = pystac.Catalog(id='test-catalog', description='Tutorial catalog.')"
   ]
  },
  {
   "cell_type": "code",
   "execution_count": 5,
   "id": "8884e95a-2dcc-4d51-a56a-7ae1d4e73fd2",
   "metadata": {},
   "outputs": [
    {
     "name": "stdout",
     "output_type": "stream",
     "text": [
      "[]\n",
      "[]\n"
     ]
    }
   ],
   "source": [
    "print(list(catalog.get_children()))\n",
    "print(list(catalog.get_items()))"
   ]
  },
  {
   "cell_type": "code",
   "execution_count": 6,
   "id": "2021cd56-41d7-461a-8ab4-1c92a5b01dc6",
   "metadata": {},
   "outputs": [],
   "source": [
    "import rasterio\n",
    "from shapely.geometry import Polygon, mapping\n",
    "\n",
    "def get_bbox_and_footprint(raster_uri):\n",
    "    with rasterio.open(raster_uri) as ds:\n",
    "        bounds = ds.bounds\n",
    "        bbox = [bounds.left, bounds.bottom, bounds.right, bounds.top]\n",
    "        footprint = Polygon([\n",
    "            [bounds.left, bounds.bottom],\n",
    "            [bounds.left, bounds.top],\n",
    "            [bounds.right, bounds.top],\n",
    "            [bounds.right, bounds.bottom]\n",
    "        ])\n",
    "\n",
    "        return (bbox, mapping(footprint))"
   ]
  },
  {
   "cell_type": "code",
   "execution_count": 14,
   "id": "2ba420be-457c-4aa5-a57f-55e30f641a40",
   "metadata": {},
   "outputs": [
    {
     "name": "stdout",
     "output_type": "stream",
     "text": [
      "[372705.5, 5231742.5, 380071.0, 5254523.5]\n",
      "{'type': 'Polygon', 'coordinates': (((372705.5, 5231742.5), (372705.5, 5254523.5), (380071.0, 5254523.5), (380071.0, 5231742.5), (372705.5, 5231742.5)),)}\n"
     ]
    }
   ],
   "source": [
    "# Define core repository directories\n",
    "from pathlib import Path\n",
    "import os\n",
    "ROOT_DIR = Path(os.getcwd()).parents[2]\n",
    "FILE_PATH = os.path.join(ROOT_DIR, \"assets/20210425_100412_ssc3_u0001/files/SkySatCollect/20210425_100412_ssc3_u0001/pansharpened_udm2/20210425_100412_ssc3_u0001_pansharpened_udm2.tif\")\n",
    "\n",
    "bbox, footprint = get_bbox_and_footprint(FILE_PATH)\n",
    "print(bbox)\n",
    "print(footprint)"
   ]
  },
  {
   "cell_type": "code",
   "execution_count": 15,
   "id": "58ff3dab-3bac-44a2-9aba-15ce4cbf3306",
   "metadata": {},
   "outputs": [],
   "source": [
    "from datetime import datetime\n",
    "\n",
    "item = pystac.Item(id='local-image',\n",
    "                 geometry=footprint,\n",
    "                 bbox=bbox,\n",
    "                 datetime=datetime.utcnow(),\n",
    "                 properties={})"
   ]
  },
  {
   "cell_type": "code",
   "execution_count": 19,
   "id": "b58b89fd-1183-4a84-b062-da8709e3099c",
   "metadata": {},
   "outputs": [],
   "source": [
    "catalog.add_item(item)"
   ]
  },
  {
   "cell_type": "code",
   "execution_count": 20,
   "id": "29dbb1ec-21f7-4f06-884c-b6da3584931a",
   "metadata": {},
   "outputs": [
    {
     "data": {
      "text/plain": [
       "<Catalog id=test-catalog>"
      ]
     },
     "execution_count": 20,
     "metadata": {},
     "output_type": "execute_result"
    }
   ],
   "source": [
    "item.get_parent()"
   ]
  },
  {
   "cell_type": "code",
   "execution_count": 22,
   "id": "898e1208-35ea-428c-bb87-35df0c1a744c",
   "metadata": {},
   "outputs": [
    {
     "name": "stdout",
     "output_type": "stream",
     "text": [
      "* <Catalog id=test-catalog>\n",
      "  * <Item id=local-image>\n"
     ]
    }
   ],
   "source": [
    "catalog.describe()"
   ]
  },
  {
   "cell_type": "code",
   "execution_count": null,
   "id": "239131ed-e33b-46f9-bc84-9303fa71e730",
   "metadata": {},
   "outputs": [],
   "source": [
    "item.add_asset(\n",
    "    key='image',\n",
    "    asset=pystac.Asset(\n",
    "        href=img_path,\n",
    "        media_type=pystac.MediaType.GEOTIFF\n",
    "    )\n",
    ")"
   ]
  }
 ],
 "metadata": {
  "kernelspec": {
   "display_name": "Python 3",
   "language": "python",
   "name": "python3"
  },
  "language_info": {
   "codemirror_mode": {
    "name": "ipython",
    "version": 3
   },
   "file_extension": ".py",
   "mimetype": "text/x-python",
   "name": "python",
   "nbconvert_exporter": "python",
   "pygments_lexer": "ipython3",
   "version": "3.8.10"
  }
 },
 "nbformat": 4,
 "nbformat_minor": 5
}
