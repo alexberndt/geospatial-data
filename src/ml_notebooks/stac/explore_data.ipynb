{
 "cells": [
  {
   "cell_type": "markdown",
   "id": "a6b57ec0-7fcb-4806-b36c-d30a665df0ab",
   "metadata": {},
   "source": [
    "# Explore Data\n",
    "\n",
    "_by Alex Berndt_\n",
    "_12 Dec 2021_\n",
    "\n",
    "__Abstract__\n",
    "\n",
    "This notebook serves as the starting point for this investigation. We aim to get a _feel_ for the provided data by:\n",
    "\n",
    "1. Visualization\n",
    "2. Interpretation\n",
    "\n",
    "## Install Dependencies"
   ]
  },
  {
   "cell_type": "code",
   "execution_count": 1,
   "id": "e845551e-4685-4437-bee4-ab9240781481",
   "metadata": {},
   "outputs": [],
   "source": [
    "from collections import namedtuple, OrderedDict\n",
    "import os\n",
    "\n",
    "import matplotlib\n",
    "import matplotlib.colors as colors\n",
    "import matplotlib.patches as mpatches\n",
    "import matplotlib.pyplot as plt\n",
    "import numpy as np\n",
    "import rasterio\n",
    "from pathlib import Path\n",
    "\n",
    "%matplotlib inline\n",
    "\n",
    "from helper import (\n",
    "    read_json, \n",
    "    get_metadata_path,\n",
    "    get_udm_file_path,\n",
    "    get_udm2_file_path,\n",
    "    get_tif_file_path,\n",
    "    get_COG_file_path,\n",
    ")\n",
    "\n",
    "# Define core repository directories\n",
    "ROOT_DIR = Path(os.getcwd()).parents[2]\n",
    "ASSETS_DIR = os.path.join(ROOT_DIR, \"assets/\")"
   ]
  },
  {
   "cell_type": "code",
   "execution_count": 2,
   "id": "a3b89747-adba-4260-9ca2-c791d492bd32",
   "metadata": {},
   "outputs": [],
   "source": [
    "# Define item id's saved in `./assets/` dir\n",
    "item_ids = [\n",
    "    '20210425_100412_ssc3_u0001',\n",
    "    '20210425_100412_ssc3_u0002',\n",
    "    '20210528_131522_ssc9_u0001',\n",
    "    '20210710_133141_ssc8_u0001',\n",
    "    '20210922_100732_ssc12_u0001',\n",
    "    '20210922_100732_ssc12_u0002',\n",
    "]\n",
    "\n",
    "item_type = 'PSScene4Band'"
   ]
  },
  {
   "cell_type": "code",
   "execution_count": 3,
   "id": "6a3431a1-ed39-4bb6-a98a-fc847a2536c5",
   "metadata": {},
   "outputs": [
    {
     "name": "stdout",
     "output_type": "stream",
     "text": [
      "/home/alex/github_repos/ml-notebooks/assets/20210425_100412_ssc3_u0001/files/SkySatCollect/20210425_100412_ssc3_u0001/pansharpened_udm2/20210425_100412_ssc3_u0001_pansharpened.tif\n"
     ]
    }
   ],
   "source": [
    "# store the scene filename for processing and make sure the file exists\n",
    "scene_filename = get_tif_file_path(item_ids[0])\n",
    "\n",
    "print(scene_filename)\n",
    "assert os.path.isfile(scene_filename)"
   ]
  },
  {
   "cell_type": "code",
   "execution_count": 4,
   "id": "c35a5530-8648-41ee-a9b9-9d541d1b5a4e",
   "metadata": {},
   "outputs": [
    {
     "name": "stdout",
     "output_type": "stream",
     "text": [
      "(45562, 14731)\n"
     ]
    }
   ],
   "source": [
    "# Utility functions: loading an image\n",
    "\n",
    "NamedBands = namedtuple('NamedBands', 'b, g, r, nir')\n",
    "\n",
    "def load_masked_bands(filename):\n",
    "    \"\"\"Loads a 4-band BGRNir Planet Image file as a list of masked bands.\n",
    "    \n",
    "    The masked bands share the same mask, so editing one band mask will\n",
    "    edit them all.\"\"\"\n",
    "    with rasterio.open(filename) as src:\n",
    "        b, g, r, nir = src.read()\n",
    "        mask = src.read_masks(1) == 0 # 0 value means the pixel is masked\n",
    "    \n",
    "    bands = NamedBands(b=b, g=g, r=r, nir=nir)\n",
    "    return NamedBands(*[np.ma.array(b, mask=mask)\n",
    "                        for b in bands])\n",
    "\n",
    "print(load_masked_bands(scene_filename).b.shape)"
   ]
  },
  {
   "cell_type": "code",
   "execution_count": 5,
   "id": "9953b2bb-95c4-4d5a-8b52-fdcec84bc055",
   "metadata": {},
   "outputs": [],
   "source": [
    "# Utility functions: displaying an image\n",
    "\n",
    "def _linear_scale(ndarray, old_min, old_max, new_min, new_max):\n",
    "    \"\"\"Linear scale from old_min to new_min, old_max to new_max.\n",
    "    \n",
    "    Values below min/max are allowed in input and output.\n",
    "    Min/Max values are two data points that are used in the linear scaling.\n",
    "    \"\"\"\n",
    "    #https://en.wikipedia.org/wiki/Normalization_(image_processing)\n",
    "    return (ndarray - old_min)*(new_max - new_min)/(old_max - old_min) + new_min\n",
    "\n",
    "def _mask_to_alpha(bands):\n",
    "    band = np.atleast_3d(bands)[...,0]\n",
    "    alpha = np.zeros_like(band)\n",
    "    alpha[~band.mask] = 1\n",
    "    return alpha\n",
    "\n",
    "def _add_alpha_mask(bands):\n",
    "    return np.dstack([bands, _mask_to_alpha(bands)])\n",
    "\n",
    "def bands_to_display(bands, alpha=True):\n",
    "    \"\"\"Converts a list of bands to a 3-band rgb, normalized array for display.\"\"\"\n",
    "    rgb_bands = np.dstack(bands[:3])\n",
    "\n",
    "    old_min = np.percentile(rgb_bands, 2)\n",
    "    old_max = np.percentile(rgb_bands, 98)\n",
    "    new_min = 0\n",
    "    new_max = 1\n",
    "    scaled = _linear_scale(rgb_bands.astype(np.double),\n",
    "                           old_min, old_max, new_min, new_max)\n",
    "    bands = np.clip(scaled, new_min, new_max)\n",
    "    if alpha is True:\n",
    "        bands = _add_alpha_mask(bands)\n",
    "    return bands"
   ]
  },
  {
   "cell_type": "code",
   "execution_count": 8,
   "id": "7bb14450-34e7-4e08-b652-b69ded36b82a",
   "metadata": {},
   "outputs": [],
   "source": [
    "### MEMORY RUNS OUT\n",
    "# fig = plt.figure(figsize=(10, 10))\n",
    "# bands = load_masked_bands(scene_filename)\n",
    "# plt.imshow(bands_to_display([bands.r, bands.g, bands.b]))\n",
    "\n",
    "# plt.title('Scene')\n",
    "# ax = plt.axis('off')"
   ]
  },
  {
   "cell_type": "code",
   "execution_count": 9,
   "id": "1ed175d7-e17c-44ff-9fb8-75d10aab3e10",
   "metadata": {},
   "outputs": [
    {
     "name": "stdout",
     "output_type": "stream",
     "text": [
      "/home/alex/github_repos/ml-notebooks/assets/20210425_100412_ssc3_u0001/files/SkySatCollect/20210425_100412_ssc3_u0001/pansharpened_udm2/20210425_100412_ssc3_u0001_pansharpened_udm2.tif\n"
     ]
    }
   ],
   "source": [
    "# store the udm2 filename for processing and make sure the file exists\n",
    "udm2_filename = get_udm2_file_path(item_ids[0])\n",
    "print(udm2_filename)\n",
    "assert os.path.isfile(udm2_filename)"
   ]
  },
  {
   "cell_type": "code",
   "execution_count": 10,
   "id": "a9bcce57-0007-491e-912c-830ab8ae826e",
   "metadata": {},
   "outputs": [
    {
     "name": "stdout",
     "output_type": "stream",
     "text": [
      "(8, 45562, 14731)\n",
      "['clear', 'snow', 'shadow', 'light haze', 'heavy haze', 'cloud', 'confidence', 'unusable pixels']\n"
     ]
    }
   ],
   "source": [
    "# Utility functions for loading a UDM2 image and identify bands as\n",
    "# class labels\n",
    "def load_udm2(udm2_filename):\n",
    "    '''Load multi-band UDM2 as a 3d array.'''\n",
    "    with rasterio.open(udm2_filename, 'r') as src:\n",
    "        udm2 = src.read()\n",
    "    return udm2\n",
    "\n",
    "udm2_labels = ['clear', 'snow', 'shadow', 'light haze', 'heavy haze', 'cloud',\n",
    "               'confidence', 'unusable pixels']\n",
    "\n",
    "udm2 = load_udm2(udm2_filename)\n",
    "print(udm2.shape)\n",
    "print(udm2_labels)"
   ]
  },
  {
   "cell_type": "code",
   "execution_count": 11,
   "id": "a3394081-0448-4774-a9c7-683d1de160cc",
   "metadata": {},
   "outputs": [
    {
     "name": "stdout",
     "output_type": "stream",
     "text": [
      "27.9% of pixels are considered 'clear'\n"
     ]
    }
   ],
   "source": [
    "num_pixels = np.size(udm2[0,:])\n",
    "num_clear = np.count_nonzero(udm2[0,:])\n",
    "            \n",
    "percent_clear = 100 * (num_pixels - num_clear) / num_pixels\n",
    "print(\"{0:.01f}% of pixels are considered 'clear'\".format(percent_clear))"
   ]
  },
  {
   "cell_type": "code",
   "execution_count": 12,
   "id": "32a4406d-f573-4172-bab3-a98e19f616a8",
   "metadata": {},
   "outputs": [
    {
     "name": "stderr",
     "output_type": "stream",
     "text": [
      "/tmp/ipykernel_7927/1571936114.py:53: DeprecationWarning: `np.float` is a deprecated alias for the builtin `float`. To silence this warning, use `float` by itself. Doing this will not modify any behavior and is safe. If you specifically wanted the numpy scalar type, use `np.float64` here.\n",
      "Deprecated in NumPy 1.20; for more details and guidance: https://numpy.org/devdocs/release/1.20.0-notes.html#deprecations\n",
      "  color_ticks = np.array(range(len(values)), dtype=np.float) / (len(values) - 1)\n"
     ]
    },
    {
     "data": {
      "image/png": "[encoded data removed]",
      "text/plain": [
       "<Figure size 144x144 with 1 Axes>"
      ]
     },
     "metadata": {
      "needs_background": "light"
     },
     "output_type": "display_data"
    }
   ],
   "source": [
    "def plot_classified_band(class_band, class_labels=None,\n",
    "                         cmap='rainbow',\n",
    "                         title='Class Labels', figdim=10):\n",
    "\n",
    "    fig = plt.figure(figsize=(figdim, figdim))\n",
    "    ax = fig.add_subplot(1, 1, 1)\n",
    "    imshow_class_band(ax, class_band, class_labels=class_labels, cmap=cmap)\n",
    "    ax.set_title(title)\n",
    "    ax.set_axis_off()\n",
    "\n",
    "def imshow_class_band(ax, class_band, class_labels=None, cmap='rainbow'):\n",
    "    \"\"\"Show classified band with colormap normalization and color legend.\n",
    "    Alters ax in place.\n",
    "    \n",
    "    possible cmaps ref:\n",
    "    https://matplotlib.org/examples/color/colormaps_reference.html\n",
    "    \"\"\"\n",
    "    class_norm = _ClassNormalize(class_band)\n",
    "    im = ax.imshow(class_band, cmap=cmap, norm=class_norm)\n",
    "\n",
    "    try:\n",
    "        # add class label legend\n",
    "        # https://stackoverflow.com/questions/25482876\n",
    "        # /how-to-add-legend-to-imshow-in-matplotlib\n",
    "        color_mapping = class_norm.mapping\n",
    "        colors = [im.cmap(color_mapping[k])\n",
    "                  for k in class_labels.keys()]\n",
    "        labels = class_labels.values()\n",
    "\n",
    "        # https://matplotlib.org/users/legend_guide.html\n",
    "        # tag: #creating-artists-specifically-for-adding-to-the-legend-aka-proxy-artists\n",
    "        patches = [mpatches.Patch(color=c, label=l)\n",
    "                   for c,l in zip(colors, labels)]\n",
    "\n",
    "        ax.legend(handles=patches, bbox_to_anchor=(1, 1),\n",
    "                  loc='upper right', borderaxespad=0.)\n",
    "    except AttributeError:\n",
    "        # class_labels not specified\n",
    "        pass\n",
    "\n",
    "# Inspired by\n",
    "# https://matplotlib.org/users/colormapnorms.html#custom-normalization-two-linear-ranges\n",
    "class _ClassNormalize(colors.Normalize):\n",
    "    \"\"\"Matplotlib colormap normalizer for a classified band.\n",
    "    \"\"\"\n",
    "    def __init__(self, arry):\n",
    "        # get unique unmasked values\n",
    "        values = [v for v in np.unique(arry)\n",
    "                  if not isinstance(v, np.ma.core.MaskedConstant)]\n",
    "\n",
    "        # map unique values to points in the range 0-1\n",
    "        if len(values) > 1:\n",
    "            color_ticks = np.array(range(len(values)), dtype=np.float) / (len(values) - 1)\n",
    "        else:\n",
    "            color_ticks = np.array([0])\n",
    "\n",
    "        self._mapping = dict((v, ct) for v, ct in zip(values, color_ticks))\n",
    "        \n",
    "        # Initialize base Normalize instance\n",
    "        vmin = 0\n",
    "        vmax = 1\n",
    "        clip = False\n",
    "        colors.Normalize.__init__(self, vmin, vmax, clip)\n",
    "    \n",
    "    def __call__(self, arry, clip=None):\n",
    "        '''Create classified representation of arry for display.'''\n",
    "        # round array back to ints for logical comparison\n",
    "        arry = np.around(arry)\n",
    "        new_arry = arry.copy()\n",
    "        for k, v in self._mapping.items():\n",
    "            new_arry[arry==k] = v\n",
    "        return new_arry\n",
    "    \n",
    "    @property\n",
    "    def mapping(self):\n",
    "        '''property required for colors.Normalize classes\n",
    "        \n",
    "        We update the _mapping property in __init__ and __call__ and just\n",
    "        return that property here.\n",
    "        '''\n",
    "        return self._mapping\n",
    "    \n",
    "# test out classified band visualization\n",
    "test_classified_band = np.array(range(9)).reshape((3,3))\n",
    "plot_classified_band(test_classified_band, title='Test Classified Band',\n",
    "                     figdim=2)"
   ]
  },
  {
   "cell_type": "code",
   "execution_count": 13,
   "id": "7932f0d1-af8e-4693-8c9a-8e124ad411bd",
   "metadata": {},
   "outputs": [
    {
     "name": "stderr",
     "output_type": "stream",
     "text": [
      "/tmp/ipykernel_7927/1571936114.py:53: DeprecationWarning: `np.float` is a deprecated alias for the builtin `float`. To silence this warning, use `float` by itself. Doing this will not modify any behavior and is safe. If you specifically wanted the numpy scalar type, use `np.float64` here.\n",
      "Deprecated in NumPy 1.20; for more details and guidance: https://numpy.org/devdocs/release/1.20.0-notes.html#deprecations\n",
      "  color_ticks = np.array(range(len(values)), dtype=np.float) / (len(values) - 1)\n"
     ]
    },
    {
     "data": {
      "image/png": "[encoded data removed]",
      "text/plain": [
       "<Figure size 1080x1080 with 8 Axes>"
      ]
     },
     "metadata": {
      "needs_background": "light"
     },
     "output_type": "display_data"
    }
   ],
   "source": [
    "def visualize_udm2(udm2, figsize=(15,15)):\n",
    "    fig, axes = plt.subplots(nrows=4, ncols=2,\n",
    "                                   sharex=True, sharey=True,\n",
    "                                   figsize=figsize,\n",
    "                            constrained_layout=True)\n",
    "    \n",
    "    bands = [np.squeeze(b) for b in \n",
    "             np.split(udm2, udm2.shape[0], axis=0)]\n",
    "    band_labels = udm2_labels\n",
    "\n",
    "    fig.suptitle('UDM2 Bands', fontsize=20)\n",
    "    bal = zip(bands, axes.flat, udm2_labels)\n",
    "    for i, (band, ax, label) in enumerate(bal):\n",
    "        unique = np.unique(band)\n",
    "    \n",
    "        # it is unwieldy to show a legend for more than 5 values\n",
    "        if len(unique) < 5:\n",
    "            class_labels = OrderedDict((v, v) for v in np.unique(band))\n",
    "        else:\n",
    "            class_labels = None\n",
    "        imshow_class_band(ax, band, class_labels=class_labels, cmap='Greys')\n",
    "        ax.set_title(label)\n",
    "        ax.set_axis_off()\n",
    "\n",
    "visualize_udm2(udm2)"
   ]
  },
  {
   "cell_type": "code",
   "execution_count": 14,
   "id": "c8441d02-ef45-4ae8-8c4c-dab3b85bed61",
   "metadata": {},
   "outputs": [
    {
     "name": "stdout",
     "output_type": "stream",
     "text": [
      "Labels present in this UDM2 UDM band\n"
     ]
    },
    {
     "data": {
      "text/plain": [
       "OrderedDict([(0, 'clear'), (1, 'blackfill')])"
      ]
     },
     "execution_count": 14,
     "metadata": {},
     "output_type": "execute_result"
    }
   ],
   "source": [
    "def get_udm_labels(udm):\n",
    "    '''Get the interpretation of the UDM binary values'''    \n",
    "    def get_label(v):\n",
    "        if v == 0:\n",
    "            label = 'clear'\n",
    "        elif v == 1:\n",
    "            label = 'blackfill'\n",
    "        else:\n",
    "            labels = []\n",
    "            if v & int('10',2):\n",
    "                labels.append('cloud')\n",
    "            if v & int('1111100',2):\n",
    "                bands = []\n",
    "                if v & int('100',2):\n",
    "                    bands.append('Blue')\n",
    "                if v & int('1000', 2):\n",
    "                    bands.append('Green')\n",
    "                if v & int('10000', 2):\n",
    "                    bands.append('Red')\n",
    "                if v & int('100000', 2):\n",
    "                    bands.append('Red-Edge')\n",
    "                if v & int('1000000', 2):\n",
    "                    bands.append('NIR')\n",
    "                labels.append('missing/suspect {} data'.format(', '.join(bands)))\n",
    "                \n",
    "            if not len(labels):\n",
    "                labels.append('{0:08b}'.format(v))\n",
    "\n",
    "            label = ', '.join(labels)\n",
    "        return label\n",
    "\n",
    "    return OrderedDict((v, get_label(v)) for v in np.unique(udm))\n",
    "\n",
    "udm2_udm = udm2[-1, ...]\n",
    "print('Labels present in this UDM2 UDM band')\n",
    "get_udm_labels(udm2_udm)"
   ]
  },
  {
   "cell_type": "code",
   "execution_count": 15,
   "id": "7510ba59-35ed-4773-9ab6-465b98248494",
   "metadata": {},
   "outputs": [
    {
     "name": "stderr",
     "output_type": "stream",
     "text": [
      "/tmp/ipykernel_7927/1571936114.py:53: DeprecationWarning: `np.float` is a deprecated alias for the builtin `float`. To silence this warning, use `float` by itself. Doing this will not modify any behavior and is safe. If you specifically wanted the numpy scalar type, use `np.float64` here.\n",
      "Deprecated in NumPy 1.20; for more details and guidance: https://numpy.org/devdocs/release/1.20.0-notes.html#deprecations\n",
      "  color_ticks = np.array(range(len(values)), dtype=np.float) / (len(values) - 1)\n"
     ]
    },
    {
     "data": {
      "image/png": "[encoded data removed]",
      "text/plain": [
       "<Figure size 1080x1080 with 1 Axes>"
      ]
     },
     "metadata": {
      "needs_background": "light"
     },
     "output_type": "display_data"
    }
   ],
   "source": [
    "def visualize_udm2_unusable(udm2, figsize=(15,15)):\n",
    "    '''Visualize the unusable data mask band of the UDM2 product.'''\n",
    "    fig, ax = plt.subplots(nrows=1, ncols=1,\n",
    "                                   sharex=True, sharey=True,\n",
    "                                   figsize=figsize)\n",
    "    band = udm2[-1, :]\n",
    "    label = udm2_labels[-1]\n",
    "\n",
    "    imshow_class_band(ax, band, class_labels=get_udm_labels(band), cmap='rainbow')\n",
    "    ax.set_title(label)\n",
    "    ax.set_axis_off()\n",
    "\n",
    "    plt.tight_layout()\n",
    "\n",
    "visualize_udm2_unusable(udm2)"
   ]
  },
  {
   "cell_type": "code",
   "execution_count": 16,
   "id": "d8f6cd94-9542-4044-bfe6-28c025a19d78",
   "metadata": {},
   "outputs": [],
   "source": [
    "mask_class_labels = {0: 'unmasked', 1: 'masked'}\n",
    "mask_cmap = 'viridis' # looks better when just two colors are displayed"
   ]
  },
  {
   "cell_type": "code",
   "execution_count": 17,
   "id": "8fe4f26f-b0bc-4111-b28d-587a6df034dc",
   "metadata": {},
   "outputs": [
    {
     "name": "stderr",
     "output_type": "stream",
     "text": [
      "/tmp/ipykernel_7927/1571936114.py:53: DeprecationWarning: `np.float` is a deprecated alias for the builtin `float`. To silence this warning, use `float` by itself. Doing this will not modify any behavior and is safe. If you specifically wanted the numpy scalar type, use `np.float64` here.\n",
      "Deprecated in NumPy 1.20; for more details and guidance: https://numpy.org/devdocs/release/1.20.0-notes.html#deprecations\n",
      "  color_ticks = np.array(range(len(values)), dtype=np.float) / (len(values) - 1)\n"
     ]
    },
    {
     "data": {
      "image/png": "[encoded data removed]",
      "text/plain": [
       "<Figure size 720x720 with 1 Axes>"
      ]
     },
     "metadata": {
      "needs_background": "light"
     },
     "output_type": "display_data"
    }
   ],
   "source": [
    "def mask_unclear(udm2_array):\n",
    "    '''Create a mask from the udm2, masking all unclear pixels''' \n",
    "    return udm2_array[0,...] == 0\n",
    "\n",
    "plot_classified_band(mask_unclear(udm2),\n",
    "                     class_labels=mask_class_labels,\n",
    "                     cmap=mask_cmap,\n",
    "                     title='Mask All Unclear Pixels')"
   ]
  },
  {
   "cell_type": "code",
   "execution_count": 18,
   "id": "99d00642-6cb7-46ed-abbb-21aa80b724b7",
   "metadata": {},
   "outputs": [
    {
     "name": "stderr",
     "output_type": "stream",
     "text": [
      "/tmp/ipykernel_7927/1571936114.py:53: DeprecationWarning: `np.float` is a deprecated alias for the builtin `float`. To silence this warning, use `float` by itself. Doing this will not modify any behavior and is safe. If you specifically wanted the numpy scalar type, use `np.float64` here.\n",
      "Deprecated in NumPy 1.20; for more details and guidance: https://numpy.org/devdocs/release/1.20.0-notes.html#deprecations\n",
      "  color_ticks = np.array(range(len(values)), dtype=np.float) / (len(values) - 1)\n"
     ]
    },
    {
     "data": {
      "image/png": "[encoded data removed]",
      "text/plain": [
       "<Figure size 720x720 with 1 Axes>"
      ]
     },
     "metadata": {
      "needs_background": "light"
     },
     "output_type": "display_data"
    }
   ],
   "source": [
    "def mask_cloud_shadow(udm2_array):\n",
    "    '''Create a mask from the udm2, masking all cloud and cloud shadow pixels'''\n",
    "    shadow_band = udm2_array[2,...]\n",
    "    cloud_band = udm2_array[5,...]\n",
    "    masked_pixels = np.logical_or(shadow_band == 1, cloud_band == 1)\n",
    "    return masked_pixels\n",
    "\n",
    "plot_classified_band(mask_cloud_shadow(udm2),\n",
    "                     class_labels=mask_class_labels,\n",
    "                     cmap=mask_cmap,\n",
    "                     title='Mask All Cloud and Shadow Pixels')"
   ]
  }
 ],
 "metadata": {
  "kernelspec": {
   "display_name": "Python 3",
   "language": "python",
   "name": "python3"
  },
  "language_info": {
   "codemirror_mode": {
    "name": "ipython",
    "version": 3
   },
   "file_extension": ".py",
   "mimetype": "text/x-python",
   "name": "python",
   "nbconvert_exporter": "python",
   "pygments_lexer": "ipython3",
   "version": "3.9.7"
  }
 },
 "nbformat": 4,
 "nbformat_minor": 5
}
