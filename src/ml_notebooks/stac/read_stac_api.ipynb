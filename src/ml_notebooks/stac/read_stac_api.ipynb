{
 "cells": [
  {
   "cell_type": "markdown",
   "id": "e179096f-ad84-4ce1-bc54-3092da7e1a5c",
   "metadata": {},
   "source": [
    "# Reading STAC API\n",
    "\n",
    "Refer to [https://planetarycomputer.microsoft.com/docs/quickstarts/reading-stac/](https://planetarycomputer.microsoft.com/docs/quickstarts/reading-stac/)"
   ]
  },
  {
   "cell_type": "code",
   "execution_count": 1,
   "id": "256050ca-b456-41ea-848e-17ef082be416",
   "metadata": {},
   "outputs": [],
   "source": [
    "from pystac_client import Client\n",
    "\n",
    "catalog = Client.open(\"https://planetarycomputer.microsoft.com/api/stac/v1\")"
   ]
  },
  {
   "cell_type": "code",
   "execution_count": 2,
   "id": "c19b1a9e-9c18-44de-bf70-c7a1237e25d4",
   "metadata": {},
   "outputs": [
    {
     "name": "stdout",
     "output_type": "stream",
     "text": [
      "gap - USGS Gap Land Cover\n",
      "nasadem - NASADEM HGT v001\n",
      "daymet-annual-na - Daymet Annual North America\n",
      "hrea - HREA: High Resolution Electricity Access\n",
      "daymet-monthly-hi - Daymet Monthly Hawaii\n",
      "daymet-daily-na - Daymet Daily North America\n",
      "daymet-monthly-na - Daymet Monthly North America\n",
      "daymet-annual-pr - Daymet Annual Puerto Rico\n",
      "daymet-daily-pr - Daymet Daily Puerto Rico\n",
      "daymet-daily-hi - Daymet Daily Hawaii\n",
      "daymet-monthly-pr - Daymet Monthly Puerto Rico\n",
      "aster-l1t - ASTER L1T\n",
      "daymet-annual-hi - Daymet Annual Hawaii\n",
      "io-lulc - Esri 10-Meter Land Cover\n",
      "jrc-gsw - JRC Global Surface Water\n",
      "landsat-8-c2-l2 - Landsat 8 Collection 2 Level-2\n",
      "mobi - MoBI: Map of Biodiversity Importance\n",
      "mtbs - MTBS: Monitoring Trends in Burn Severity\n",
      "terraclimate - TerraClimate\n",
      "sentinel-2-l2a - Sentinel-2 Level-2A\n",
      "us-census - US Census\n",
      "cop-dem-glo-30 - Copernicus DEM GLO-30\n",
      "cop-dem-glo-90 - Copernicus DEM GLO-90\n",
      "fia - Forest Inventory and Analysis\n",
      "gbif - Global Biodiversity Information Facility (GBIF)\n",
      "goes-cmi - GOES-R Cloud & Moisture Imagery\n",
      "3dep-seamless - USGS 3DEP Seamless DEMs\n",
      "alos-dem - ALOS World 3D-30m\n",
      "gridmet - gridMET\n",
      "hgb - HGB: Harmonized Global Biomass for 2010\n",
      "naip - NAIP: National Agriculture Imagery Program\n"
     ]
    }
   ],
   "source": [
    "collections = catalog.get_children()\n",
    "for collection in collections:\n",
    "    print(f\"{collection.id} - {collection.title}\")"
   ]
  },
  {
   "cell_type": "code",
   "execution_count": 3,
   "id": "6cabb242-7288-4f5c-a547-27e3b8d47857",
   "metadata": {},
   "outputs": [
    {
     "name": "stdout",
     "output_type": "stream",
     "text": [
      "SR_B1 (coastal): coastal (30m resolution)\n",
      "SR_B2 (blue): visible blue (30m resolution)\n",
      "SR_B3 (green): visible green (30m resolution)\n",
      "SR_B4 (red): visible red (30m resolution)\n",
      "SR_B5 (nir): near-infrared (30m resolution)\n",
      "SR_B6 (swir16): short-wave infrared (30m resolution)\n",
      "SR_B7 (swir22): short-wave infrared (30m resolution)\n",
      "ST_B10 (lwir11): long-wave infrared (100m resolution)\n",
      "ST_TRAD : thermal radiance (30m resolution)\n",
      "ST_URAD : upwelled radiance (30m resolution)\n",
      "ST_ATRAN : atmospheric transmission (30m resolution)\n",
      "ST_CDIST : distance to nearest cloud (30m resolution)\n",
      "ST_DRAD : downwelled radiance (30m resolution)\n",
      "ST_EMIS : emissivity (30m resolution)\n",
      "ST_EMSD : emissivity standard deviation (30m resolution)\n"
     ]
    }
   ],
   "source": [
    "landsat = catalog.get_child(\"landsat-8-c2-l2\")\n",
    "for band in landsat.extra_fields[\"summaries\"][\"eo:bands\"]:\n",
    "    name = band[\"name\"]\n",
    "    description = band[\"description\"]\n",
    "    common_name = \"\" if \"common_name\" not in band else f\"({band['common_name']})\"\n",
    "    ground_sample_distance = band[\"gsd\"]\n",
    "    print(f\"{name} {common_name}: {description} ({ground_sample_distance}m resolution)\")"
   ]
  },
  {
   "cell_type": "code",
   "execution_count": 4,
   "id": "71113761-74ad-46e7-84fe-82ed68cc494d",
   "metadata": {},
   "outputs": [],
   "source": [
    "area_of_interest = {\n",
    "    \"type\": \"Polygon\",\n",
    "    \"coordinates\": [\n",
    "        [\n",
    "            [-122.27508544921875, 47.54687159892238],\n",
    "            [-121.96128845214844, 47.54687159892238],\n",
    "            [-121.96128845214844, 47.745787772920934],\n",
    "            [-122.27508544921875, 47.745787772920934],\n",
    "            [-122.27508544921875, 47.54687159892238],\n",
    "        ]\n",
    "    ],\n",
    "}\n",
    "\n",
    "time_range = \"2020-12-01/2020-12-31\"\n",
    "\n",
    "search = catalog.search(\n",
    "    collections=[\"landsat-8-c2-l2\"], intersects=area_of_interest, datetime=time_range\n",
    ")"
   ]
  },
  {
   "cell_type": "code",
   "execution_count": 5,
   "id": "91a79851-7b9e-43ad-9f1c-414afe75cf54",
   "metadata": {},
   "outputs": [
    {
     "name": "stdout",
     "output_type": "stream",
     "text": [
      "LC08_L2SP_046027_20201229_02_T2: 2020-12-29 18:55:56.738265+00:00\n",
      "LC08_L2SP_047027_20201220_02_T2: 2020-12-20 19:02:09.878796+00:00\n",
      "LC08_L2SP_046027_20201213_02_T2: 2020-12-13 18:56:00.096447+00:00\n",
      "LC08_L2SP_047027_20201204_02_T1: 2020-12-04 19:02:11.194486+00:00\n"
     ]
    }
   ],
   "source": [
    "items = list(search.get_items())\n",
    "for item in items:\n",
    "    print(f\"{item.id}: {item.datetime}\")"
   ]
  },
  {
   "cell_type": "code",
   "execution_count": 7,
   "id": "d4031cfe-6cba-45b8-bcd9-fe075245dc33",
   "metadata": {},
   "outputs": [
    {
     "data": {
      "text/plain": [
       "{'datetime': '2020-12-04T19:02:11.194486Z',\n",
       " 'platform': 'landsat-8',\n",
       " 'proj:bbox': [353685.0, 5135085.0, 589515.0, 5374215.0],\n",
       " 'proj:epsg': 32610,\n",
       " 'description': 'Landsat Collection 2 Level-2 Surface Reflectance Product',\n",
       " 'instruments': ['oli', 'tirs'],\n",
       " 'eo:cloud_cover': 1.55,\n",
       " 'view:off_nadir': 0,\n",
       " 'landsat:wrs_row': '027',\n",
       " 'landsat:scene_id': 'LC80470272020339LGN00',\n",
       " 'landsat:wrs_path': '047',\n",
       " 'landsat:wrs_type': '2',\n",
       " 'view:sun_azimuth': 164.91405951,\n",
       " 'view:sun_elevation': 18.80722985,\n",
       " 'landsat:cloud_cover_land': 1.9,\n",
       " 'landsat:processing_level': 'L2SP',\n",
       " 'landsat:collection_number': '02',\n",
       " 'landsat:collection_category': 'T1'}"
      ]
     },
     "execution_count": 7,
     "metadata": {},
     "output_type": "execute_result"
    }
   ],
   "source": [
    "item.properties"
   ]
  }
 ],
 "metadata": {
  "kernelspec": {
   "display_name": "Python 3",
   "language": "python",
   "name": "python3"
  },
  "language_info": {
   "codemirror_mode": {
    "name": "ipython",
    "version": 3
   },
   "file_extension": ".py",
   "mimetype": "text/x-python",
   "name": "python",
   "nbconvert_exporter": "python",
   "pygments_lexer": "ipython3",
   "version": "3.8.10"
  }
 },
 "nbformat": 4,
 "nbformat_minor": 5
}
