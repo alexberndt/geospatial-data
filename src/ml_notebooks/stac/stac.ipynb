{
 "cells": [
  {
   "cell_type": "markdown",
   "id": "36284179-311c-4ac1-a9c6-e7e834af61c4",
   "metadata": {},
   "source": [
    "# Introduction to STAC Part 2:\n",
    "\n",
    "In this tutorial, we will highlight how to create a simple STAC catalog using the python library PySTAC. We will refer back to the catalog of items we obtained from our Planet order and the corresponding analytic assets (our COGs stored in our Google Cloud Storage bucket)."
   ]
  },
  {
   "cell_type": "markdown",
   "id": "601f60c8-552f-4198-890b-df89ce002159",
   "metadata": {},
   "source": [
    "### Import Dependencies"
   ]
  },
  {
   "cell_type": "code",
   "execution_count": 1,
   "id": "8d694998-db0f-4ea2-9fa3-4a5d560375c9",
   "metadata": {},
   "outputs": [],
   "source": [
    "# Import python packages\n",
    "import pystac\n",
    "import os\n",
    "import json\n",
    "import requests\n",
    "import urllib.request\n",
    "import rasterio\n",
    "from tempfile import TemporaryDirectory\n",
    "from pathlib import Path\n",
    "import typing\n",
    "\n",
    "# Define core repository directories\n",
    "ROOT_DIR = Path(os.getcwd()).parents[2]\n",
    "ASSETS_DIR = os.path.join(ROOT_DIR, \"assets/\")"
   ]
  },
  {
   "cell_type": "markdown",
   "id": "c5ecf464-d3a4-4009-9995-713193dd26df",
   "metadata": {},
   "source": [
    "### Initialize Catalog"
   ]
  },
  {
   "cell_type": "code",
   "execution_count": 7,
   "id": "aac397b3-4281-47aa-809f-30aff0fb23ca",
   "metadata": {},
   "outputs": [
    {
     "name": "stdout",
     "output_type": "stream",
     "text": [
      "[]\n",
      "[]\n"
     ]
    }
   ],
   "source": [
    "catalog = pystac.Catalog(id='overstory-stac', description='Overstory STAC Catalog.')\n",
    "print(list(catalog.get_all_items()))\n",
    "print(list(catalog.get_children()))"
   ]
  },
  {
   "cell_type": "markdown",
   "id": "420dee4b-198c-44e8-b8c2-b8b339c0133f",
   "metadata": {},
   "source": [
    "### Read `manifest.json` Metadata"
   ]
  },
  {
   "cell_type": "code",
   "execution_count": 36,
   "id": "18a7e382-80d3-474a-a3f3-7dfab41138b7",
   "metadata": {},
   "outputs": [
    {
     "name": "stdout",
     "output_type": "stream",
     "text": [
      "20210425_100412_ssc3_u0001\n",
      "{'acquired': '2021-04-25T10:04:12.75Z', 'clear_confidence_percent': 91, 'clear_percent': 93, 'cloud_cover': 0, 'cloud_percent': 0, 'ground_control_ratio': 1, 'gsd': 0.81, 'heavy_haze_percent': 0, 'item_type': 'SkySatCollect', 'light_haze_percent': 0, 'pixel_resolution': 0.5, 'provider': 'skysat', 'published': '2021-04-25T14:18:33Z', 'publishing_stage': 'finalized', 'quality_category': 'standard', 'satellite_azimuth': 35.7, 'satellite_id': 'SSC3', 'shadow_percent': 3, 'snow_ice_percent': 0, 'strip_id': 's103_20210425T100412Z', 'sun_azimuth': 145.6, 'sun_elevation': 51.7, 'updated': '2021-09-11T06:44:43Z', 'view_angle': 28.3, 'visible_confidence_percent': 78, 'visible_percent': 96}\n",
      "20210425_100412_ssc3_u0002\n",
      "{'acquired': '2021-04-25T10:04:12.75Z', 'clear_confidence_percent': 91, 'clear_percent': 93, 'cloud_cover': 0, 'cloud_percent': 0, 'ground_control_ratio': 1, 'gsd': 0.8, 'heavy_haze_percent': 0, 'item_type': 'SkySatCollect', 'light_haze_percent': 0, 'pixel_resolution': 0.5, 'provider': 'skysat', 'published': '2021-04-25T14:18:33Z', 'publishing_stage': 'finalized', 'quality_category': 'standard', 'satellite_azimuth': 35.7, 'satellite_id': 'SSC3', 'shadow_percent': 3, 'snow_ice_percent': 0, 'strip_id': 's103_20210425T100412Z', 'sun_azimuth': 145.6, 'sun_elevation': 51.8, 'updated': '2021-09-11T06:44:44Z', 'view_angle': 26.7, 'visible_confidence_percent': 78, 'visible_percent': 96}\n"
     ]
    }
   ],
   "source": [
    "item_ids = [\n",
    "         '20210425_100412_ssc3_u0001',\n",
    "         '20210425_100412_ssc3_u0002',\n",
    "]\n",
    "    \n",
    "# Helper function to read .json files\n",
    "def load_item_metadata(file):\n",
    "    with open(file, \"r\") as f:\n",
    "        data = json.load(f)\n",
    "        return data\n",
    "\n",
    "# Loop through each item\n",
    "for item_id in item_ids:\n",
    "    \n",
    "    manifest_file = os.path.join(ASSETS_DIR, item_id, 'files', 'SkySatCollect', item_id, f'{item_id}_metadata.json') \n",
    "    manifest_data = dict(load_item_metadata(manifest_file))\n",
    "    \n",
    "    print(manifest_data['id'])\n",
    "    print(manifest_data['properties'])"
   ]
  },
  {
   "cell_type": "code",
   "execution_count": 19,
   "id": "4227fbb1-3544-4440-b999-c9cd1078406d",
   "metadata": {},
   "outputs": [],
   "source": []
  },
  {
   "cell_type": "code",
   "execution_count": 20,
   "id": "7ee077c5-f5cc-49e0-ae69-b54e4bfb0553",
   "metadata": {},
   "outputs": [
    {
     "data": {
      "text/plain": [
       "'/home/alex/github_repos/ml-notebooks/assets/'"
      ]
     },
     "execution_count": 20,
     "metadata": {},
     "output_type": "execute_result"
    }
   ],
   "source": [
    "ASSETS_DIR"
   ]
  },
  {
   "cell_type": "markdown",
   "id": "62b5b74d-29eb-4845-b6a4-97d17ed460a4",
   "metadata": {},
   "source": [
    "### Read Items"
   ]
  },
  {
   "cell_type": "code",
   "execution_count": null,
   "id": "7f373e79-c322-4e36-a5dc-37d3bbadc840",
   "metadata": {},
   "outputs": [],
   "source": [
    "def store_item_metadata(order_id, metadata_folder_name, item_type, item_ids):\n",
    "    \"\"\"Store items for metadata.\n",
    "    \n",
    "    Args:\n",
    "        order_id (): example \"20210425_100412_ssc3_u0001\"\n",
    "    \n",
    "    \"\"\"\n",
    "   \n",
    "    # Get previous Planet order results with the order id associated with the order\n",
    "    current_order = planet_orders_url + '/' + order_id\n",
    "    order_response = requests.get(current_order, auth=planet_auth)\n",
    "    order_response.status_code\n",
    "    order_results = order_response.json()['_links']['results']\n",
    " \n",
    "\n",
    "    # List of metadata json file names from the selected items from the order\n",
    "    file_names = [file_name := order_id + '/' +  item_type + '/' + item_id + '_metadata.json' for item_id in item_ids]\n",
    "\n",
    "    \n",
    "    # Create folder to store metadata if the folder does not already exist\n",
    "    metadata_folder = Path.cwd() / metadata_folder_name\n",
    "    try:\n",
    "        metadata_folder.mkdir(parents=True, exist_ok=False)\n",
    "    except FileExistsError as err:\n",
    "        print(\"Directory already exists\")\n",
    "    \n",
    "    file_paths = []\n",
    "    for result in order_results:\n",
    "        if result['name'] in file_names:\n",
    "            json_file = result['location']\n",
    "            metadata_path = Path.joinpath(metadata_folder).joinpath(result[\"name\"])   \n",
    "            file_paths.append(str(metadata_path))\n",
    "            metadata_path.parent.mkdir(parents=True, exist_ok=True)\n",
    "            item_metadata_download = requests.get(json_file, allow_redirects=True)\n",
    "            open(metadata_path, 'wb').write(item_metadata_download.content)"
   ]
  },
  {
   "cell_type": "code",
   "execution_count": null,
   "id": "1de5569f-b5cd-41d2-9d5d-93b108f2487b",
   "metadata": {},
   "outputs": [],
   "source": []
  },
  {
   "cell_type": "code",
   "execution_count": null,
   "id": "95476c66-1eff-4de8-a604-570e65229fe3",
   "metadata": {},
   "outputs": [],
   "source": []
  },
  {
   "cell_type": "code",
   "execution_count": 13,
   "id": "b5210d3b-b248-4a9b-8cb7-928112e7a305",
   "metadata": {},
   "outputs": [],
   "source": [
    "import requests\n",
    "from requests.auth import HTTPBasicAuth\n",
    "import json\n",
    "\n",
    "## Get Planet API key stored as an environment variable on your system\n",
    "PLANET_API_KEY = os.getenv('PLANET_API_KEY')\n",
    "\n",
    "## HTTP Basic Authentication\n",
    "planet_auth = HTTPBasicAuth(PLANET_API_KEY, '')\n",
    "\n",
    "# set content type to json\n",
    "headers = {'content-type': 'application/json'}"
   ]
  },
  {
   "cell_type": "code",
   "execution_count": 14,
   "id": "61bd2823-da19-40ad-9d0c-3cc66028d74e",
   "metadata": {},
   "outputs": [],
   "source": [
    "# Base Order URL\n",
    "planet_orders_url = 'https://api.planet.com/compute/ops/orders/v2'\n",
    "\n",
    "# order id\n",
    "order_id = 'cb363b75-b4e4-46f1-8d32-0ef87afb6215'"
   ]
  },
  {
   "cell_type": "code",
   "execution_count": 16,
   "id": "96277a0a-1545-4932-8dce-ea046b3725e3",
   "metadata": {},
   "outputs": [],
   "source": [
    "item_ids = [\n",
    "         '20210515_145754_03_245c',\n",
    "         '20210514_145807_70_2455',\n",
    "]"
   ]
  },
  {
   "cell_type": "markdown",
   "id": "70947b9f-cdee-4e09-a501-c75ff01eb5b9",
   "metadata": {},
   "source": [
    "## Microsoft Dask"
   ]
  },
  {
   "cell_type": "code",
   "execution_count": 6,
   "id": "182eb910-fbf1-4805-aac8-8acc6947b417",
   "metadata": {},
   "outputs": [
    {
     "name": "stderr",
     "output_type": "stream",
     "text": [
      "/home/alex/github_repos/ml-notebooks/.venv/lib/python3.8/site-packages/dask_gateway/client.py:21: FutureWarning: format_bytes is deprecated and will be removed in a future release. Please use dask.utils.format_bytes instead.\n",
      "  from distributed.utils import LoopRunner, format_bytes\n"
     ]
    }
   ],
   "source": [
    "import numpy as np\n",
    "import xarray as xr\n",
    "\n",
    "import rasterio.features\n",
    "import stackstac\n",
    "import pystac_client\n",
    "import planetary_computer\n",
    "\n",
    "import xrspatial.multispectral as ms\n",
    "\n",
    "from dask_gateway import GatewayCluster"
   ]
  }
 ],
 "metadata": {
  "kernelspec": {
   "display_name": "Python 3",
   "language": "python",
   "name": "python3"
  },
  "language_info": {
   "codemirror_mode": {
    "name": "ipython",
    "version": 3
   },
   "file_extension": ".py",
   "mimetype": "text/x-python",
   "name": "python",
   "nbconvert_exporter": "python",
   "pygments_lexer": "ipython3",
   "version": "3.8.10"
  }
 },
 "nbformat": 4,
 "nbformat_minor": 5
}
