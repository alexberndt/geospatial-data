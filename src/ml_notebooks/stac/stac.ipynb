{
 "cells": [
  {
   "cell_type": "markdown",
   "id": "36284179-311c-4ac1-a9c6-e7e834af61c4",
   "metadata": {},
   "source": [
    "# Introduction to STAC Part 2:\n",
    "\n",
    "In this tutorial, we will highlight how to create a simple STAC catalog using the python library PySTAC. We will refer back to the catalog of items we obtained from our Planet order and the corresponding analytic assets (our COGs stored in our Google Cloud Storage bucket)."
   ]
  },
  {
   "cell_type": "markdown",
   "id": "601f60c8-552f-4198-890b-df89ce002159",
   "metadata": {},
   "source": [
    "### Import Dependencies"
   ]
  },
  {
   "cell_type": "code",
   "execution_count": 1,
   "id": "8d694998-db0f-4ea2-9fa3-4a5d560375c9",
   "metadata": {},
   "outputs": [],
   "source": [
    "# Import python packages\n",
    "import pystac\n",
    "import os\n",
    "import json\n",
    "import requests\n",
    "import urllib.request\n",
    "import rasterio\n",
    "from tempfile import TemporaryDirectory\n",
    "from pathlib import Path\n",
    "import typing\n",
    "\n",
    "# Define core repository directories\n",
    "ROOT_DIR = Path(os.getcwd()).parents[2]\n",
    "ASSETS_DIR = os.path.join(ROOT_DIR, \"assets/\")"
   ]
  },
  {
   "cell_type": "markdown",
   "id": "c5ecf464-d3a4-4009-9995-713193dd26df",
   "metadata": {},
   "source": [
    "### Initialize Catalog"
   ]
  },
  {
   "cell_type": "code",
   "execution_count": 7,
   "id": "aac397b3-4281-47aa-809f-30aff0fb23ca",
   "metadata": {},
   "outputs": [
    {
     "name": "stdout",
     "output_type": "stream",
     "text": [
      "[]\n",
      "[]\n"
     ]
    }
   ],
   "source": [
    "catalog = pystac.Catalog(id='overstory-stac', description='Overstory STAC Catalog.')\n",
    "print(list(catalog.get_all_items()))\n",
    "print(list(catalog.get_children()))"
   ]
  },
  {
   "cell_type": "markdown",
   "id": "420dee4b-198c-44e8-b8c2-b8b339c0133f",
   "metadata": {},
   "source": [
    "### Read `*_metadata.json` Files"
   ]
  },
  {
   "cell_type": "code",
   "execution_count": 45,
   "id": "18a7e382-80d3-474a-a3f3-7dfab41138b7",
   "metadata": {},
   "outputs": [
    {
     "name": "stdout",
     "output_type": "stream",
     "text": [
      "20210425_100412_ssc3_u0001\n",
      "{'acquired': '2021-04-25T10:04:12.75Z', 'clear_confidence_percent': 91, 'clear_percent': 93, 'cloud_cover': 0, 'cloud_percent': 0, 'ground_control_ratio': 1, 'gsd': 0.81, 'heavy_haze_percent': 0, 'item_type': 'SkySatCollect', 'light_haze_percent': 0, 'pixel_resolution': 0.5, 'provider': 'skysat', 'published': '2021-04-25T14:18:33Z', 'publishing_stage': 'finalized', 'quality_category': 'standard', 'satellite_azimuth': 35.7, 'satellite_id': 'SSC3', 'shadow_percent': 3, 'snow_ice_percent': 0, 'strip_id': 's103_20210425T100412Z', 'sun_azimuth': 145.6, 'sun_elevation': 51.7, 'updated': '2021-09-11T06:44:43Z', 'view_angle': 28.3, 'visible_confidence_percent': 78, 'visible_percent': 96}\n",
      "2021-04-25T10:04:12.75\n",
      "20210425_100412_ssc3_u0002\n",
      "{'acquired': '2021-04-25T10:04:12.75Z', 'clear_confidence_percent': 91, 'clear_percent': 93, 'cloud_cover': 0, 'cloud_percent': 0, 'ground_control_ratio': 1, 'gsd': 0.8, 'heavy_haze_percent': 0, 'item_type': 'SkySatCollect', 'light_haze_percent': 0, 'pixel_resolution': 0.5, 'provider': 'skysat', 'published': '2021-04-25T14:18:33Z', 'publishing_stage': 'finalized', 'quality_category': 'standard', 'satellite_azimuth': 35.7, 'satellite_id': 'SSC3', 'shadow_percent': 3, 'snow_ice_percent': 0, 'strip_id': 's103_20210425T100412Z', 'sun_azimuth': 145.6, 'sun_elevation': 51.8, 'updated': '2021-09-11T06:44:44Z', 'view_angle': 26.7, 'visible_confidence_percent': 78, 'visible_percent': 96}\n",
      "2021-04-25T10:04:12.75\n",
      "20210528_131522_ssc9_u0001\n",
      "{'acquired': '2021-05-28T13:15:22.937Z', 'clear_confidence_percent': 97, 'clear_percent': 96, 'cloud_cover': 0.02, 'cloud_percent': 2, 'ground_control_ratio': 1, 'gsd': 0.81, 'heavy_haze_percent': 0, 'item_type': 'SkySatCollect', 'light_haze_percent': 0, 'pixel_resolution': 0.5, 'provider': 'skysat', 'published': '2021-05-28T17:10:49Z', 'publishing_stage': 'finalized', 'quality_category': 'standard', 'satellite_azimuth': 2.6, 'satellite_id': 'SSC9', 'shadow_percent': 3, 'snow_ice_percent': 0, 'strip_id': 's109_20210528T131522Z', 'sun_azimuth': 229.4, 'sun_elevation': 56.4, 'updated': '2021-05-29T07:55:18Z', 'view_angle': 26.7, 'visible_confidence_percent': 89, 'visible_percent': 98}\n",
      "2021-05-28T13:15:22.937\n",
      "20210710_133141_ssc8_u0001\n",
      "{'acquired': '2021-07-10T13:31:41.437Z', 'clear_confidence_percent': 90, 'clear_percent': 77, 'cloud_cover': 0.18, 'cloud_percent': 18, 'ground_control_ratio': 0.97, 'gsd': 0.79, 'heavy_haze_percent': 0, 'item_type': 'SkySatCollect', 'light_haze_percent': 1, 'pixel_resolution': 0.5, 'provider': 'skysat', 'published': '2021-07-10T19:27:29Z', 'publishing_stage': 'finalized', 'quality_category': 'standard', 'satellite_azimuth': 287, 'satellite_id': 'SSC8', 'shadow_percent': 4, 'snow_ice_percent': 0, 'strip_id': 's108_20210710T133141Z', 'sun_azimuth': 232.8, 'sun_elevation': 55.9, 'updated': '2021-07-11T06:52:55Z', 'view_angle': 27.9, 'visible_confidence_percent': 84, 'visible_percent': 82}\n",
      "2021-07-10T13:31:41.437\n",
      "20210922_100732_ssc12_u0001\n",
      "{'acquired': '2021-09-22T10:07:32.75Z', 'clear_confidence_percent': 84, 'clear_percent': 92, 'cloud_cover': 0, 'cloud_percent': 0, 'ground_control_ratio': 1, 'gsd': 0.75, 'heavy_haze_percent': 0, 'item_type': 'SkySatCollect', 'light_haze_percent': 3, 'pixel_resolution': 0.5, 'provider': 'skysat', 'published': '2021-09-22T13:59:09Z', 'publishing_stage': 'finalized', 'quality_category': 'standard', 'satellite_azimuth': 13.6, 'satellite_id': 'SSC12', 'shadow_percent': 1, 'snow_ice_percent': 0, 'strip_id': 's112_20210922T100732Z', 'sun_azimuth': 155, 'sun_elevation': 40, 'updated': '2021-09-23T11:00:11Z', 'view_angle': 24.7, 'visible_confidence_percent': 69, 'visible_percent': 96}\n",
      "2021-09-22T10:07:32.75\n",
      "20210922_100732_ssc12_u0002\n",
      "{'acquired': '2021-09-22T10:07:32.75Z', 'clear_confidence_percent': 84, 'clear_percent': 92, 'cloud_cover': 0, 'cloud_percent': 0, 'ground_control_ratio': 1, 'gsd': 0.77, 'heavy_haze_percent': 0, 'item_type': 'SkySatCollect', 'light_haze_percent': 3, 'pixel_resolution': 0.5, 'provider': 'skysat', 'published': '2021-09-22T13:59:10Z', 'publishing_stage': 'finalized', 'quality_category': 'standard', 'satellite_azimuth': 13.6, 'satellite_id': 'SSC12', 'shadow_percent': 1, 'snow_ice_percent': 0, 'strip_id': 's112_20210922T100732Z', 'sun_azimuth': 155, 'sun_elevation': 40.1, 'updated': '2021-09-23T11:00:07Z', 'view_angle': 26.5, 'visible_confidence_percent': 69, 'visible_percent': 96}\n",
      "2021-09-22T10:07:32.75\n"
     ]
    }
   ],
   "source": [
    "# Define item id's saved in `./assets/` dir\n",
    "item_ids = [\n",
    "    '20210425_100412_ssc3_u0001',\n",
    "    '20210425_100412_ssc3_u0002',\n",
    "    '20210528_131522_ssc9_u0001',\n",
    "    '20210710_133141_ssc8_u0001',\n",
    "    '20210922_100732_ssc12_u0001',\n",
    "    '20210922_100732_ssc12_u0002',\n",
    "]\n",
    "    \n",
    "# Helper function to read .json files\n",
    "def load_item_metadata(file):\n",
    "    with open(file, \"r\") as f:\n",
    "        data = json.load(f)\n",
    "        return data\n",
    "\n",
    "# Loop through each item\n",
    "for item_id in item_ids:\n",
    "    \n",
    "    metadata_file = os.path.join(ASSETS_DIR, 'metadata', f'{item_id}_metadata.json') \n",
    "    metadata_data = dict(load_item_metadata(metadata_file))\n",
    "    \n",
    "    print(metadata_data['id'])\n",
    "    print(metadata_data['properties'])\n",
    "    print(metadata_data['properties'][\"acquired\"][:-1])"
   ]
  },
  {
   "cell_type": "markdown",
   "id": "5562b50f-a450-4de3-af47-2bb11759baa3",
   "metadata": {},
   "source": [
    "### Create STAC Items"
   ]
  },
  {
   "cell_type": "code",
   "execution_count": 38,
   "id": "7ee077c5-f5cc-49e0-ae69-b54e4bfb0553",
   "metadata": {},
   "outputs": [],
   "source": [
    "# Import python packages\n",
    "from rasterio.warp import calculate_default_transform\n",
    "from shapely.geometry import Polygon, mapping\n",
    "from datetime import datetime\n",
    "from itertools import islice"
   ]
  },
  {
   "cell_type": "code",
   "execution_count": null,
   "id": "d996c7ae-e3d1-44fd-a22c-33324294b233",
   "metadata": {},
   "outputs": [],
   "source": [
    "# Define helper function to get STAC item\n",
    "def create_STAC_Item(tiff_path, metadata_json):\n",
    "    \"\"\"Creates a STAC item.\n",
    "    \n",
    "    Args:\n",
    "        tiff_path (str): path to the .tif file\n",
    "        metadata_json (str): \n",
    "        \n",
    "    Returns:\n",
    "        \n",
    "    \"\"\"\n",
    "\n",
    "    with rasterio.open(tiff_path) as sample_cog:\n",
    "        \n",
    "        bounds = sample_cog.bounds\n",
    "        src_crs = sample_cog.crs\n",
    "        dst_crs = 'EPSG:4326'  # EPSG identifier for WGS84 coordinate system used by the geojson format\n",
    "        \n",
    "        left, bottom, right, top = rasterio.warp.transform_bounds(sample_cog.crs, dst_crs, *bounds)\n",
    "        bbox = [left, bottom, right, top]\n",
    "        \n",
    "        # Create geojson feature\n",
    "        geom = mapping(Polygon([\n",
    "          [left, bottom],\n",
    "           [left, top],\n",
    "           [right, top],\n",
    "           [right, bottom]\n",
    "        ]))\n",
    "        \n",
    "        time_acquired = datetime.strptime(metadata_json[\"properties\"][\"acquired\"][:-1], '%Y-%m-%dT%H:%M:%S.%f')\n",
    "        \n",
    "        # Instantiate pystac item\n",
    "        item = pystac.Item(id=metadata_json[\"id\"],\n",
    "                 geometry=geom,\n",
    "                 bbox=bbox,\n",
    "                 datetime = time_acquired,\n",
    "                 properties={\n",
    "                 })\n",
    "\n",
    "        # Use Planet metadata.json to add some common metadata to the STAC item\n",
    "        metadata_properties = metadata_json[\"properties\"]\n",
    "\n",
    "        # Enable item extensions\n",
    "        item.ext.enable('eo')\n",
    "        item.ext.enable('view') \n",
    "        item.ext.enable('projection')\n",
    "        \n",
    "        for key, value in islice(metadata_properties.items(), 1, None):\n",
    "\n",
    "            # Add some common metadata for the item not included in the core item specification\n",
    "            if(key == 'gsd'):\n",
    "                item.common_metadata.gsd = value\n",
    "            \n",
    "            # View Geometry Extension \n",
    "            if (key == 'sun_azimuth'):\n",
    "                item.ext.view.sun_azimuth = value\n",
    "            if (key == 'sun_elevation'):\n",
    "                item.ext.view.sun_elevation = value\n",
    "            \n",
    "            # Electro Optical Extension - \n",
    "            if(key == 'cloud_cover'):\n",
    "                item.ext.eo.cloud_cover = value\n",
    "           \n",
    "           # Projection Extension\n",
    "            if(key == 'epsg_code'):\n",
    "                item.ext.projection.epsg = value\n",
    "\n",
    "        # Tuple containing spatial and temporal extent information to use later in this tutorial\n",
    "        item_extent_info =  (bbox, geom, time_acquired)\n",
    "     \n",
    "    # Returns a list containing the PySTAC Item object and a tuple \n",
    "    # holding the bounding box, geojson polygon, and date the item was acquired\n",
    "    return item, (item_extent_info)"
   ]
  },
  {
   "cell_type": "code",
   "execution_count": null,
   "id": "7fc7f144-4dab-4e8e-89d8-f75572d6a0dd",
   "metadata": {},
   "outputs": [],
   "source": [
    "\n",
    "def create_STAC_Items(metadata_folder_name, planet_order_id, item_type, item_ids, storage_bucket_name):\n",
    "    \"\"\" Create STAC Items.\n",
    "    \n",
    "    Args:\n",
    "        metadata_folder_name:\n",
    "        planet_order_id:\n",
    "        item_type:\n",
    "        item_ids:\n",
    "        storage_bucket_name: \n",
    "    \n",
    "    Returns:\n",
    "        \n",
    "    \"\"\"\n",
    "\n",
    "    # Store metadata \n",
    "    store_item_metadata(order_id, metadata_folder_name, item_type , item_ids)\n",
    "    metadata_directory = metadata_folder_name + '/' + order_id + '/' + item_type\n",
    "    metadata_files = sorted(Path(metadata_directory).glob('*'), reverse=True)\n",
    "\n",
    "    urls = []\n",
    "    urls = sorted([storage_bucket_name + item_id + '_pansharpened_udm.tif' for item_id in item_ids], reverse=True)\n",
    "\n",
    "    # empty list to store STAC items\n",
    "    stac_items = []\n",
    "    \n",
    "    for asset_url, item_metadata in zip(urls, metadata_files):\n",
    "        m = load_item_metadata(item_metadata)\n",
    "\n",
    "        item, extent = create_STAC_Item(asset_url, m)\n",
    "        item.add_asset(\n",
    "              key='analytic',\n",
    "              asset=pystac.Asset(\n",
    "                  href=asset_url,\n",
    "                  title= \"4-Band Analytic\",\n",
    "                  # indicate it is a cloud optimized geotiff\n",
    "                  media_type=pystac.MediaType.COG,\n",
    "                  roles=([\n",
    "                    \"analytic\"\n",
    "                  ])\n",
    "              )\n",
    "        ) \n",
    "        stac_items.append((item, extent))\n",
    "    return stac_items"
   ]
  },
  {
   "cell_type": "markdown",
   "id": "d73abba9-9ef5-4df5-8ad9-441ec5c83e70",
   "metadata": {},
   "source": [
    "Add the STAC items to a local directory"
   ]
  },
  {
   "cell_type": "code",
   "execution_count": null,
   "id": "75b5591e-8111-4854-adc9-cda9de41d05a",
   "metadata": {},
   "outputs": [],
   "source": [
    "\n",
    "item_type = 'PSScene4Band'\n",
    "metadata_folder = 'catalog_metadata'\n",
    "storage_bucket_name = os.path.join(ASSETS_DIR, 'cog')\n",
    "\n",
    "stac_items = create_STAC_Items(\n",
    "    metadata_folder_name=metadata_folder, \n",
    "    planet_order_id=order_id, \n",
    "    item_type=item_type, \n",
    "    item_ids=item_ids, \n",
    "    storage_bucket_name=storage_bucket_name\n",
    ")"
   ]
  },
  {
   "cell_type": "markdown",
   "id": "62b5b74d-29eb-4845-b6a4-97d17ed460a4",
   "metadata": {},
   "source": [
    "### Add Items to STAC Catalog"
   ]
  },
  {
   "cell_type": "code",
   "execution_count": null,
   "id": "349e7b64-7dac-4c30-a992-d4e66a3c9105",
   "metadata": {},
   "outputs": [],
   "source": [
    "for index, item in enumerate(stac_items):\n",
    "    catalog.add_item(item[0])\n",
    "    print(json.dumps(item[0].to_dict(), indent=4))"
   ]
  }
 ],
 "metadata": {
  "kernelspec": {
   "display_name": "Python 3",
   "language": "python",
   "name": "python3"
  },
  "language_info": {
   "codemirror_mode": {
    "name": "ipython",
    "version": 3
   },
   "file_extension": ".py",
   "mimetype": "text/x-python",
   "name": "python",
   "nbconvert_exporter": "python",
   "pygments_lexer": "ipython3",
   "version": "3.8.10"
  }
 },
 "nbformat": 4,
 "nbformat_minor": 5
}
