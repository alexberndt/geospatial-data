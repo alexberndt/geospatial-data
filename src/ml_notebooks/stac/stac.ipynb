{
 "cells": [
  {
   "cell_type": "markdown",
   "id": "36284179-311c-4ac1-a9c6-e7e834af61c4",
   "metadata": {},
   "source": [
    "# Data Registry for Satellite Data from Planet Labs\n",
    "\n",
    "_by Alex Berndt_\n",
    "_9 Dec 2021_\n",
    "\n",
    "__Abstract__\n",
    "\n",
    "This notebook serves as an entrypoint into what a Spatio-Temporal Asset Catalog (STAC) is, and how we use this at Overstory.\n",
    "\n",
    "__References__\n",
    "\n",
    "1. [Example STAC Catalog from Planet Labs](https://developers.planet.com/planetschool/introduction-to-stac-part-2-creating-an-example-stac-catalog-of-planet-imagery-with-pystac/)"
   ]
  },
  {
   "cell_type": "markdown",
   "id": "601f60c8-552f-4198-890b-df89ce002159",
   "metadata": {},
   "source": [
    "### Import Dependencies"
   ]
  },
  {
   "cell_type": "code",
   "execution_count": 1,
   "id": "8d694998-db0f-4ea2-9fa3-4a5d560375c9",
   "metadata": {},
   "outputs": [],
   "source": [
    "import os\n",
    "import json\n",
    "import requests\n",
    "import urllib.request\n",
    "import rasterio\n",
    "from tempfile import TemporaryDirectory\n",
    "from pathlib import Path\n",
    "import typing\n",
    "import pystac\n",
    "from pystac import (Catalog, CatalogType)\n",
    "from typing import Dict, List, Tuple\n",
    "from logging import DEBUG, Logger\n",
    "from rasterio.warp import calculate_default_transform\n",
    "from shapely.geometry import Polygon, mapping\n",
    "from datetime import datetime\n",
    "from itertools import islice\n",
    "\n",
    "from helper import (\n",
    "    read_json, \n",
    "    get_metadata_path,\n",
    "    get_udm_file_path,\n",
    "    get_udm2_file_path,\n",
    "    get_tif_file_path,\n",
    "    get_COG_file_path,\n",
    ")\n",
    "\n",
    "# Define core repository directories\n",
    "ROOT_DIR = Path(os.getcwd()).parents[2]\n",
    "ASSETS_DIR = os.path.join(ROOT_DIR, \"assets/\")\n",
    "CATALOG_DIR = os.path.join(ROOT_DIR, \"catalog/\")"
   ]
  },
  {
   "cell_type": "markdown",
   "id": "c5ecf464-d3a4-4009-9995-713193dd26df",
   "metadata": {},
   "source": [
    "## 1. Ingest Planet Data into STAC Registry"
   ]
  },
  {
   "cell_type": "markdown",
   "id": "420dee4b-198c-44e8-b8c2-b8b339c0133f",
   "metadata": {},
   "source": [
    "### Read `*_metadata.json` Files"
   ]
  },
  {
   "cell_type": "code",
   "execution_count": 2,
   "id": "18a7e382-80d3-474a-a3f3-7dfab41138b7",
   "metadata": {},
   "outputs": [
    {
     "name": "stdout",
     "output_type": "stream",
     "text": [
      "----------------------------\n",
      "20210425_100412_ssc3_u0001\n",
      "{'acquired': '2021-04-25T10:04:12.75Z', 'clear_confidence_percent': 91, 'clear_percent': 93, 'cloud_cover': 0, 'cloud_percent': 0, 'ground_control_ratio': 1, 'gsd': 0.81, 'heavy_haze_percent': 0, 'item_type': 'SkySatCollect', 'light_haze_percent': 0, 'pixel_resolution': 0.5, 'provider': 'skysat', 'published': '2021-04-25T14:18:33Z', 'publishing_stage': 'finalized', 'quality_category': 'standard', 'satellite_azimuth': 35.7, 'satellite_id': 'SSC3', 'shadow_percent': 3, 'snow_ice_percent': 0, 'strip_id': 's103_20210425T100412Z', 'sun_azimuth': 145.6, 'sun_elevation': 51.7, 'updated': '2021-09-11T06:44:43Z', 'view_angle': 28.3, 'visible_confidence_percent': 78, 'visible_percent': 96}\n",
      "2021-04-25T10:04:12.75\n",
      "udm_file:  /home/alex/github_repos/ml-notebooks/assets/20210425_100412_ssc3_u0001/files/SkySatCollect/20210425_100412_ssc3_u0001/pansharpened_udm2/20210425_100412_ssc3_u0001_pansharpened_udm.tif\n",
      "udm2_file: /home/alex/github_repos/ml-notebooks/assets/20210425_100412_ssc3_u0001/files/SkySatCollect/20210425_100412_ssc3_u0001/pansharpened_udm2/20210425_100412_ssc3_u0001_pansharpened_udm2.tif\n",
      "tif_file:  /home/alex/github_repos/ml-notebooks/assets/20210425_100412_ssc3_u0001/files/SkySatCollect/20210425_100412_ssc3_u0001/pansharpened_udm2/20210425_100412_ssc3_u0001_pansharpened.tif\n",
      "cog_file:  /home/alex/github_repos/ml-notebooks/assets/20210425_100412_ssc3_u0001/files/20210425_100412_ssc3_u0001_pansharpened_cog_rgb.tif\n",
      "----------------------------\n",
      "20210425_100412_ssc3_u0002\n",
      "{'acquired': '2021-04-25T10:04:12.75Z', 'clear_confidence_percent': 91, 'clear_percent': 93, 'cloud_cover': 0, 'cloud_percent': 0, 'ground_control_ratio': 1, 'gsd': 0.8, 'heavy_haze_percent': 0, 'item_type': 'SkySatCollect', 'light_haze_percent': 0, 'pixel_resolution': 0.5, 'provider': 'skysat', 'published': '2021-04-25T14:18:33Z', 'publishing_stage': 'finalized', 'quality_category': 'standard', 'satellite_azimuth': 35.7, 'satellite_id': 'SSC3', 'shadow_percent': 3, 'snow_ice_percent': 0, 'strip_id': 's103_20210425T100412Z', 'sun_azimuth': 145.6, 'sun_elevation': 51.8, 'updated': '2021-09-11T06:44:44Z', 'view_angle': 26.7, 'visible_confidence_percent': 78, 'visible_percent': 96}\n",
      "2021-04-25T10:04:12.75\n",
      "udm_file:  /home/alex/github_repos/ml-notebooks/assets/20210425_100412_ssc3_u0002/files/SkySatCollect/20210425_100412_ssc3_u0002/pansharpened_udm2/20210425_100412_ssc3_u0002_pansharpened_udm.tif\n",
      "udm2_file: /home/alex/github_repos/ml-notebooks/assets/20210425_100412_ssc3_u0002/files/SkySatCollect/20210425_100412_ssc3_u0002/pansharpened_udm2/20210425_100412_ssc3_u0002_pansharpened_udm2.tif\n",
      "tif_file:  /home/alex/github_repos/ml-notebooks/assets/20210425_100412_ssc3_u0002/files/SkySatCollect/20210425_100412_ssc3_u0002/pansharpened_udm2/20210425_100412_ssc3_u0002_pansharpened.tif\n",
      "cog_file:  /home/alex/github_repos/ml-notebooks/assets/20210425_100412_ssc3_u0002/files/20210425_100412_ssc3_u0002_pansharpened_cog_rgb.tif\n",
      "----------------------------\n",
      "20210528_131522_ssc9_u0001\n",
      "{'acquired': '2021-05-28T13:15:22.937Z', 'clear_confidence_percent': 97, 'clear_percent': 96, 'cloud_cover': 0.02, 'cloud_percent': 2, 'ground_control_ratio': 1, 'gsd': 0.81, 'heavy_haze_percent': 0, 'item_type': 'SkySatCollect', 'light_haze_percent': 0, 'pixel_resolution': 0.5, 'provider': 'skysat', 'published': '2021-05-28T17:10:49Z', 'publishing_stage': 'finalized', 'quality_category': 'standard', 'satellite_azimuth': 2.6, 'satellite_id': 'SSC9', 'shadow_percent': 3, 'snow_ice_percent': 0, 'strip_id': 's109_20210528T131522Z', 'sun_azimuth': 229.4, 'sun_elevation': 56.4, 'updated': '2021-05-29T07:55:18Z', 'view_angle': 26.7, 'visible_confidence_percent': 89, 'visible_percent': 98}\n",
      "2021-05-28T13:15:22.937\n",
      "udm_file:  /home/alex/github_repos/ml-notebooks/assets/20210528_131522_ssc9_u0001/files/SkySatCollect/20210528_131522_ssc9_u0001/pansharpened_udm2/20210528_131522_ssc9_u0001_pansharpened_udm.tif\n",
      "udm2_file: /home/alex/github_repos/ml-notebooks/assets/20210528_131522_ssc9_u0001/files/SkySatCollect/20210528_131522_ssc9_u0001/pansharpened_udm2/20210528_131522_ssc9_u0001_pansharpened_udm2.tif\n",
      "tif_file:  /home/alex/github_repos/ml-notebooks/assets/20210528_131522_ssc9_u0001/files/SkySatCollect/20210528_131522_ssc9_u0001/pansharpened_udm2/20210528_131522_ssc9_u0001_pansharpened.tif\n",
      "cog_file:  /home/alex/github_repos/ml-notebooks/assets/20210528_131522_ssc9_u0001/files/20210528_131522_ssc9_u0001_pansharpened_cog_rgb.tif\n",
      "----------------------------\n",
      "20210710_133141_ssc8_u0001\n",
      "{'acquired': '2021-07-10T13:31:41.437Z', 'clear_confidence_percent': 90, 'clear_percent': 77, 'cloud_cover': 0.18, 'cloud_percent': 18, 'ground_control_ratio': 0.97, 'gsd': 0.79, 'heavy_haze_percent': 0, 'item_type': 'SkySatCollect', 'light_haze_percent': 1, 'pixel_resolution': 0.5, 'provider': 'skysat', 'published': '2021-07-10T19:27:29Z', 'publishing_stage': 'finalized', 'quality_category': 'standard', 'satellite_azimuth': 287, 'satellite_id': 'SSC8', 'shadow_percent': 4, 'snow_ice_percent': 0, 'strip_id': 's108_20210710T133141Z', 'sun_azimuth': 232.8, 'sun_elevation': 55.9, 'updated': '2021-07-11T06:52:55Z', 'view_angle': 27.9, 'visible_confidence_percent': 84, 'visible_percent': 82}\n",
      "2021-07-10T13:31:41.437\n",
      "udm_file:  /home/alex/github_repos/ml-notebooks/assets/20210710_133141_ssc8_u0001/files/SkySatCollect/20210710_133141_ssc8_u0001/pansharpened_udm2/20210710_133141_ssc8_u0001_pansharpened_udm.tif\n",
      "udm2_file: /home/alex/github_repos/ml-notebooks/assets/20210710_133141_ssc8_u0001/files/SkySatCollect/20210710_133141_ssc8_u0001/pansharpened_udm2/20210710_133141_ssc8_u0001_pansharpened_udm2.tif\n",
      "tif_file:  /home/alex/github_repos/ml-notebooks/assets/20210710_133141_ssc8_u0001/files/SkySatCollect/20210710_133141_ssc8_u0001/pansharpened_udm2/20210710_133141_ssc8_u0001_pansharpened.tif\n",
      "cog_file:  /home/alex/github_repos/ml-notebooks/assets/20210710_133141_ssc8_u0001/files/20210710_133141_ssc8_u0001_pansharpened_cog_rgb.tif\n",
      "----------------------------\n",
      "20210922_100732_ssc12_u0001\n",
      "{'acquired': '2021-09-22T10:07:32.75Z', 'clear_confidence_percent': 84, 'clear_percent': 92, 'cloud_cover': 0, 'cloud_percent': 0, 'ground_control_ratio': 1, 'gsd': 0.75, 'heavy_haze_percent': 0, 'item_type': 'SkySatCollect', 'light_haze_percent': 3, 'pixel_resolution': 0.5, 'provider': 'skysat', 'published': '2021-09-22T13:59:09Z', 'publishing_stage': 'finalized', 'quality_category': 'standard', 'satellite_azimuth': 13.6, 'satellite_id': 'SSC12', 'shadow_percent': 1, 'snow_ice_percent': 0, 'strip_id': 's112_20210922T100732Z', 'sun_azimuth': 155, 'sun_elevation': 40, 'updated': '2021-09-23T11:00:11Z', 'view_angle': 24.7, 'visible_confidence_percent': 69, 'visible_percent': 96}\n",
      "2021-09-22T10:07:32.75\n",
      "udm_file:  /home/alex/github_repos/ml-notebooks/assets/20210922_100732_ssc12_u0001/files/SkySatCollect/20210922_100732_ssc12_u0001/pansharpened_udm2/20210922_100732_ssc12_u0001_pansharpened_udm.tif\n",
      "udm2_file: /home/alex/github_repos/ml-notebooks/assets/20210922_100732_ssc12_u0001/files/SkySatCollect/20210922_100732_ssc12_u0001/pansharpened_udm2/20210922_100732_ssc12_u0001_pansharpened_udm2.tif\n",
      "tif_file:  /home/alex/github_repos/ml-notebooks/assets/20210922_100732_ssc12_u0001/files/SkySatCollect/20210922_100732_ssc12_u0001/pansharpened_udm2/20210922_100732_ssc12_u0001_pansharpened.tif\n",
      "cog_file:  /home/alex/github_repos/ml-notebooks/assets/20210922_100732_ssc12_u0001/files/20210922_100732_ssc12_u0001_pansharpened_cog_rgb.tif\n",
      "----------------------------\n",
      "20210922_100732_ssc12_u0002\n",
      "{'acquired': '2021-09-22T10:07:32.75Z', 'clear_confidence_percent': 84, 'clear_percent': 92, 'cloud_cover': 0, 'cloud_percent': 0, 'ground_control_ratio': 1, 'gsd': 0.77, 'heavy_haze_percent': 0, 'item_type': 'SkySatCollect', 'light_haze_percent': 3, 'pixel_resolution': 0.5, 'provider': 'skysat', 'published': '2021-09-22T13:59:10Z', 'publishing_stage': 'finalized', 'quality_category': 'standard', 'satellite_azimuth': 13.6, 'satellite_id': 'SSC12', 'shadow_percent': 1, 'snow_ice_percent': 0, 'strip_id': 's112_20210922T100732Z', 'sun_azimuth': 155, 'sun_elevation': 40.1, 'updated': '2021-09-23T11:00:07Z', 'view_angle': 26.5, 'visible_confidence_percent': 69, 'visible_percent': 96}\n",
      "2021-09-22T10:07:32.75\n",
      "udm_file:  /home/alex/github_repos/ml-notebooks/assets/20210922_100732_ssc12_u0002/files/SkySatCollect/20210922_100732_ssc12_u0002/pansharpened_udm2/20210922_100732_ssc12_u0002_pansharpened_udm.tif\n",
      "udm2_file: /home/alex/github_repos/ml-notebooks/assets/20210922_100732_ssc12_u0002/files/SkySatCollect/20210922_100732_ssc12_u0002/pansharpened_udm2/20210922_100732_ssc12_u0002_pansharpened_udm2.tif\n",
      "tif_file:  /home/alex/github_repos/ml-notebooks/assets/20210922_100732_ssc12_u0002/files/SkySatCollect/20210922_100732_ssc12_u0002/pansharpened_udm2/20210922_100732_ssc12_u0002_pansharpened.tif\n",
      "cog_file:  /home/alex/github_repos/ml-notebooks/assets/20210922_100732_ssc12_u0002/files/20210922_100732_ssc12_u0002_pansharpened_cog_rgb.tif\n"
     ]
    }
   ],
   "source": [
    "# Define item id's saved in `./assets/` dir\n",
    "item_ids = [\n",
    "    '20210425_100412_ssc3_u0001',\n",
    "    '20210425_100412_ssc3_u0002',\n",
    "    '20210528_131522_ssc9_u0001',\n",
    "    '20210710_133141_ssc8_u0001',\n",
    "    '20210922_100732_ssc12_u0001',\n",
    "    '20210922_100732_ssc12_u0002',\n",
    "]\n",
    "\n",
    "# Loop through each item\n",
    "for item_id in item_ids:\n",
    "    \n",
    "    metadata_file = get_metadata_path(item_id)\n",
    "    udm_file = get_udm_file_path(item_id)\n",
    "    udm2_file = get_udm2_file_path(item_id)\n",
    "    tif_file = get_tif_file_path(item_id)\n",
    "    cog_file = get_COG_file_path(item_id)\n",
    "    \n",
    "    metadata_data = dict(read_json(metadata_file))\n",
    "    \n",
    "    print(\"----------------------------\")\n",
    "    print(metadata_data['id'])\n",
    "    print(metadata_data['properties'])\n",
    "    print(metadata_data['properties'][\"acquired\"][:-1])\n",
    "    print(f'udm_file:  {udm_file}')\n",
    "    print(f'udm2_file: {udm2_file}')\n",
    "    print(f'tif_file:  {tif_file}')\n",
    "    print(f'cog_file:  {cog_file}')"
   ]
  },
  {
   "cell_type": "markdown",
   "id": "5562b50f-a450-4de3-af47-2bb11759baa3",
   "metadata": {},
   "source": [
    "### Create STAC Items"
   ]
  },
  {
   "cell_type": "code",
   "execution_count": 3,
   "id": "7ee077c5-f5cc-49e0-ae69-b54e4bfb0553",
   "metadata": {},
   "outputs": [],
   "source": [
    "# Import python packages\n",
    "from rasterio.warp import calculate_default_transform\n",
    "from shapely.geometry import Polygon, mapping\n",
    "from datetime import datetime\n",
    "from itertools import islice"
   ]
  },
  {
   "cell_type": "code",
   "execution_count": 4,
   "id": "d996c7ae-e3d1-44fd-a22c-33324294b233",
   "metadata": {},
   "outputs": [],
   "source": [
    "def create_STAC_Item(\n",
    "    tiff_path: str, \n",
    "    metadata_json: Dict,\n",
    "    catalog: pystac.STACObject,\n",
    ") -> Tuple[pystac.Item, Tuple]:\n",
    "    \"\"\"Creates a STAC item.\n",
    "    \n",
    "    Args:\n",
    "        tiff_path (str): path to the COG file.\n",
    "        metadata_json (Dict): dict content of metadata.json file.\n",
    "        \n",
    "    Returns:\n",
    "        List of STAC items.\n",
    "    \"\"\"\n",
    "\n",
    "    with rasterio.open(tiff_path) as sample_cog:\n",
    "        \n",
    "        bounds = sample_cog.bounds\n",
    "        src_crs = sample_cog.crs\n",
    "        dst_crs = 'EPSG:4326'  # EPSG identifier for WGS84 coordinate system used by the geojson format\n",
    "        \n",
    "        left, bottom, right, top = rasterio.warp.transform_bounds(sample_cog.crs, dst_crs, *bounds)\n",
    "        bbox = [left, bottom, right, top]\n",
    "        \n",
    "        # Create geojson feature\n",
    "        geom = mapping(Polygon([\n",
    "          [left, bottom],\n",
    "           [left, top],\n",
    "           [right, top],\n",
    "           [right, bottom]\n",
    "        ]))\n",
    "        \n",
    "        time_acquired = datetime.strptime(metadata_json[\"properties\"][\"acquired\"][:-1], '%Y-%m-%dT%H:%M:%S.%f')\n",
    "        \n",
    "        # Instantiate pystac item\n",
    "        item = pystac.Item(id=metadata_json[\"id\"],\n",
    "                             geometry=geom,\n",
    "                             bbox=bbox,\n",
    "                             datetime=time_acquired,\n",
    "                             properties={},\n",
    "                          )\n",
    "        \n",
    "        # links=[pystac.Link(rel='item', target=catalog)]\n",
    "\n",
    "        # Use Planet metadata.json to add some common metadata to the STAC item\n",
    "        metadata_properties = metadata_json[\"properties\"]\n",
    "        \n",
    "        # TODO: Enable item extensions\n",
    "        # item.ext.enable('eo')\n",
    "        # item.ext.enable('view') \n",
    "        # item.ext.enable('projection')\n",
    "        \n",
    "        for key, value in islice(metadata_properties.items(), 1, None):\n",
    "\n",
    "            # Add some common metadata for the item not included in the core item specification\n",
    "            \n",
    "            # Ground Sample Distance\n",
    "            if(key == 'gsd'):\n",
    "                item.common_metadata.gsd = value\n",
    "                \n",
    "            # TODO: Could not add item.ext - item has no ext? Need to investigate\n",
    "\n",
    "        # Tuple containing spatial and temporal extent information to use later in this tutorial\n",
    "        item_extent_info =  (bbox, geom, time_acquired)\n",
    "     \n",
    "    # Returns a list containing the PySTAC Item object and a tuple \n",
    "    # holding the bounding box, geojson polygon, and date the item was acquired\n",
    "    return item, (item_extent_info)\n",
    "\n",
    "def create_STAC_Items(item_ids: List[str], catalog: pystac.STACObject) -> List[Tuple]:\n",
    "    \"\"\" Create STAC Items.\n",
    "    \n",
    "    Args:\n",
    "        item_ids (List[str]):  \n",
    "    \n",
    "    Returns:\n",
    "        stac_items (List[Tuple]): list of STAC items\n",
    "    \"\"\"\n",
    "    item_ids = sorted(item_ids, reverse=True)\n",
    "\n",
    "    # empty list to store STAC items\n",
    "    stac_items = []\n",
    "    \n",
    "    for item_id in item_ids:\n",
    "        \n",
    "        metadata_path = get_metadata_path(item_id)\n",
    "        metadata_json = read_json(metadata_path)\n",
    "        url_udm = get_udm_file_path(item_id)\n",
    "        url_udm2 = get_udm2_file_path(item_id)\n",
    "        url_tif = get_tif_file_path(item_id)\n",
    "        url_cog = get_COG_file_path(item_id)\n",
    "\n",
    "        # Create STAC Items\n",
    "        item, extent = create_STAC_Item(\n",
    "            tiff_path=url_tif, \n",
    "            metadata_json=metadata_json,\n",
    "            catalog=catalog,\n",
    "        )\n",
    "\n",
    "        # Add COG asset to STAC items list\n",
    "        item.add_asset(\n",
    "              key='COG',\n",
    "              asset=pystac.Asset(\n",
    "                  href=url_cog,\n",
    "                  title= f\"{item_id} - COG PSScene4Band\",\n",
    "                  # indicate it is a cloud optimized geotiff\n",
    "                  media_type=pystac.MediaType.COG,\n",
    "                  roles=([\n",
    "                    \"analytic\"\n",
    "                  ])\n",
    "              )\n",
    "        ) \n",
    "        \n",
    "        # Add UDM2 asset to STAC items list\n",
    "        item.add_asset(\n",
    "              key='UDM2',\n",
    "              asset=pystac.Asset(\n",
    "                  href=url_udm2,\n",
    "                  title= f\"{item_id} - Usable Data Masks (UDM2)\",\n",
    "                  media_type=pystac.MediaType.TIFF,\n",
    "                  roles=([\n",
    "                    \"analytic\"\n",
    "                  ])\n",
    "              )\n",
    "        ) \n",
    "        \n",
    "        # Add UDM asset to STAC items list\n",
    "        item.add_asset(\n",
    "              key='UDM',\n",
    "              asset=pystac.Asset(\n",
    "                  href=url_udm,\n",
    "                  title= f\"{item_id} - Unusable Data Masks (UDM)\",\n",
    "                  media_type=pystac.MediaType.TIFF,\n",
    "                  roles=([\n",
    "                    \"analytic\"\n",
    "                  ])\n",
    "              )\n",
    "        )\n",
    "        \n",
    "        # Add catalog to be parent link\n",
    "        item.add_link(pystac.Link(rel=pystac.RelType.PARENT, target=catalog))\n",
    "        \n",
    "        stac_items.append((item, extent))\n",
    "    return stac_items"
   ]
  },
  {
   "cell_type": "markdown",
   "id": "62b5b74d-29eb-4845-b6a4-97d17ed460a4",
   "metadata": {},
   "source": [
    "### Add Items to STAC Catalog"
   ]
  },
  {
   "cell_type": "code",
   "execution_count": 5,
   "id": "be05b097-d462-4e9f-9920-d2a5894c9842",
   "metadata": {},
   "outputs": [
    {
     "name": "stdout",
     "output_type": "stream",
     "text": [
      "* <Catalog id=overstory-stac>\n",
      "  * <Item id=20210922_100732_ssc12_u0002>\n",
      "  * <Item id=20210922_100732_ssc12_u0001>\n",
      "  * <Item id=20210710_133141_ssc8_u0001>\n",
      "  * <Item id=20210528_131522_ssc9_u0001>\n",
      "  * <Item id=20210425_100412_ssc3_u0002>\n",
      "  * <Item id=20210425_100412_ssc3_u0001>\n"
     ]
    }
   ],
   "source": [
    "catalog = pystac.Catalog(id='overstory-stac', description='Overstory STAC Catalog.')\n",
    "\n",
    "# collection = pystac.Collection(\n",
    "#     id='overstory-collection', \n",
    "#     description='Collection of provided satellite imagery.',\n",
    "#     extent=pystac.Extext(\n",
    "#         spatial=pystac.collection.SpatialExtent(\n",
    "#             bboxes=))\n",
    "# )\n",
    "\n",
    "stac_items = create_STAC_Items(item_ids=item_ids, catalog=catalog)\n",
    "\n",
    "for _, item in enumerate(stac_items):\n",
    "    catalog.add_item(item[0])\n",
    "    # print(json.dumps(item[0].to_dict(), indent=4))\n",
    "    \n",
    "catalog.describe()"
   ]
  },
  {
   "cell_type": "markdown",
   "id": "b74ee8e3-57a2-440d-b9ea-f0952f9554a9",
   "metadata": {},
   "source": [
    "### Add Links for Search"
   ]
  },
  {
   "cell_type": "code",
   "execution_count": 6,
   "id": "03d1d730-00c4-45d7-9b79-08ede2023182",
   "metadata": {},
   "outputs": [
    {
     "name": "stdout",
     "output_type": "stream",
     "text": [
      "<class 'pystac.item.Item'>\n",
      "<class 'pystac.item.Item'>\n",
      "<class 'pystac.item.Item'>\n",
      "<class 'pystac.item.Item'>\n",
      "<class 'pystac.item.Item'>\n",
      "<class 'pystac.item.Item'>\n"
     ]
    }
   ],
   "source": [
    "for item in stac_items:\n",
    "    catalog.add_link(pystac.Link(rel=\"search\", target=item[0]))\n",
    "    \n",
    "    print(type(item[0]))"
   ]
  },
  {
   "cell_type": "markdown",
   "id": "0a6b841c-d2bf-4871-a4cc-545f3a4c8cca",
   "metadata": {},
   "source": [
    "### STAC Validation\n",
    "\n",
    "Validate contents of the STAC recursively to ensure all objects within it follow the latest set of JSON schemas (see [here](https://pystac.readthedocs.io/en/1.0/concepts.html#validating-pystac-objects))."
   ]
  },
  {
   "cell_type": "code",
   "execution_count": 7,
   "id": "ff2c427d-ac31-4344-81e7-8e2ee57c8d19",
   "metadata": {},
   "outputs": [],
   "source": [
    "catalog.normalize_hrefs(CATALOG_DIR)\n",
    "catalog.validate_all()"
   ]
  },
  {
   "cell_type": "markdown",
   "id": "33d56f91-3889-406c-93fe-f044ee4de747",
   "metadata": {},
   "source": [
    "### Save Catalog Locally\n",
    "\n",
    "Save the catalog locally to file."
   ]
  },
  {
   "cell_type": "code",
   "execution_count": 8,
   "id": "c9fb0272-81fa-46c8-a410-3a1dd6647136",
   "metadata": {},
   "outputs": [],
   "source": [
    "catalog.save(catalog_type=CatalogType.SELF_CONTAINED)"
   ]
  },
  {
   "cell_type": "code",
   "execution_count": 9,
   "id": "62219c05-e7c4-4585-ab86-265bb220c3f4",
   "metadata": {},
   "outputs": [
    {
     "name": "stdout",
     "output_type": "stream",
     "text": [
      "{\n",
      "  \"type\": \"Catalog\",\n",
      "  \"id\": \"overstory-stac\",\n",
      "  \"stac_version\": \"1.0.0\",\n",
      "  \"description\": \"Overstory STAC Catalog.\",\n",
      "  \"links\": [\n",
      "    {\n",
      "      \"rel\": \"root\",\n",
      "      \"href\": \"./catalog.json\",\n",
      "      \"type\": \"application/json\"\n",
      "    },\n",
      "    {\n",
      "      \"rel\": \"item\",\n",
      "      \"href\": \"./20210922_100732_ssc12_u0002/20210922_100732_ssc12_u0002.json\",\n",
      "      \"type\": \"application/json\"\n",
      "    },\n",
      "    {\n",
      "      \"rel\": \"item\",\n",
      "      \"href\": \"./20210922_100732_ssc12_u0001/20210922_100732_ssc12_u0001.json\",\n",
      "      \"type\": \"application/json\"\n",
      "    },\n",
      "    {\n",
      "      \"rel\": \"item\",\n",
      "      \"href\": \"./20210710_133141_ssc8_u0001/20210710_133141_ssc8_u0001.json\",\n",
      "      \"type\": \"application/json\"\n",
      "    },\n",
      "    {\n",
      "      \"rel\": \"item\",\n",
      "      \"href\": \"./20210528_131522_ssc9_u0001/20210528_131522_ssc9_u0001.json\",\n",
      "      \"type\": \"application/json\"\n",
      "    },\n",
      "    {\n",
      "      \"rel\": \"item\",\n",
      "      \"href\": \"./20210425_100412_ssc3_u0002/20210425_100412_ssc3_u0002.json\",\n",
      "      \"type\": \"application/json\"\n",
      "    },\n",
      "    {\n",
      "      \"rel\": \"item\",\n",
      "      \"href\": \"./20210425_100412_ssc3_u0001/20210425_100412_ssc3_u0001.json\",\n",
      "      \"type\": \"application/json\"\n",
      "    },\n",
      "    {\n",
      "      \"rel\": \"search\",\n",
      "      \"href\": \"/home/alex/github_repos/ml-notebooks/catalog/20210922_100732_ssc12_u0002/20210922_100732_ssc12_u0002.json\"\n",
      "    },\n",
      "    {\n",
      "      \"rel\": \"search\",\n",
      "      \"href\": \"/home/alex/github_repos/ml-notebooks/catalog/20210922_100732_ssc12_u0001/20210922_100732_ssc12_u0001.json\"\n",
      "    },\n",
      "    {\n",
      "      \"rel\": \"search\",\n",
      "      \"href\": \"/home/alex/github_repos/ml-notebooks/catalog/20210710_133141_ssc8_u0001/20210710_133141_ssc8_u0001.json\"\n",
      "    },\n",
      "    {\n",
      "      \"rel\": \"search\",\n",
      "      \"href\": \"/home/alex/github_repos/ml-notebooks/catalog/20210528_131522_ssc9_u0001/20210528_131522_ssc9_u0001.json\"\n",
      "    },\n",
      "    {\n",
      "      \"rel\": \"search\",\n",
      "      \"href\": \"/home/alex/github_repos/ml-notebooks/catalog/20210425_100412_ssc3_u0002/20210425_100412_ssc3_u0002.json\"\n",
      "    },\n",
      "    {\n",
      "      \"rel\": \"search\",\n",
      "      \"href\": \"/home/alex/github_repos/ml-notebooks/catalog/20210425_100412_ssc3_u0001/20210425_100412_ssc3_u0001.json\"\n",
      "    }\n",
      "  ],\n",
      "  \"stac_extensions\": []\n",
      "}\n"
     ]
    }
   ],
   "source": [
    "with open(catalog.get_self_href()) as f:\n",
    "    print(f.read())"
   ]
  },
  {
   "cell_type": "markdown",
   "id": "235f5796-9b7b-4d53-a680-1cea6502d878",
   "metadata": {},
   "source": [
    "## 2. Querying the STAC Catalog\n",
    "\n",
    "The objective here is to query our newly created STAC Catalog which we created in Part 1."
   ]
  },
  {
   "cell_type": "code",
   "execution_count": 10,
   "id": "1d0b32c2-03b1-4c64-b12f-54c0fa990b09",
   "metadata": {},
   "outputs": [],
   "source": [
    "from pystac_client import Client\n",
    "\n",
    "catalog_client = Client.open(os.path.join(CATALOG_DIR, 'catalog.json'))"
   ]
  },
  {
   "cell_type": "code",
   "execution_count": 11,
   "id": "7e3e6f1f-1715-486c-8a43-09f3b629b143",
   "metadata": {},
   "outputs": [
    {
     "data": {
      "text/plain": [
       "<Client id=overstory-stac>"
      ]
     },
     "execution_count": 11,
     "metadata": {},
     "output_type": "execute_result"
    }
   ],
   "source": [
    "catalog_client"
   ]
  },
  {
   "cell_type": "code",
   "execution_count": 12,
   "id": "0aa5219a-bc32-4892-9222-92e136f44f97",
   "metadata": {},
   "outputs": [
    {
     "data": {
      "text/plain": [
       "[<Item id=20210922_100732_ssc12_u0002>,\n",
       " <Item id=20210922_100732_ssc12_u0001>,\n",
       " <Item id=20210710_133141_ssc8_u0001>,\n",
       " <Item id=20210528_131522_ssc9_u0001>,\n",
       " <Item id=20210425_100412_ssc3_u0002>,\n",
       " <Item id=20210425_100412_ssc3_u0001>]"
      ]
     },
     "execution_count": 12,
     "metadata": {},
     "output_type": "execute_result"
    }
   ],
   "source": [
    "items = catalog.get_items()\n",
    "list(items)"
   ]
  },
  {
   "cell_type": "code",
   "execution_count": 149,
   "id": "53a4fac7-0491-438c-9d57-6886b3a15228",
   "metadata": {},
   "outputs": [],
   "source": [
    "# landsat = catalog.get_child(\"landsat-8-c2-l2\")\n",
    "# for band in landsat.extra_fields[\"summaries\"][\"eo:bands\"]:\n",
    "#     name = band[\"name\"]\n",
    "#     description = band[\"description\"]\n",
    "#     common_name = \"\" if \"common_name\" not in band else f\"({band['common_name']})\"\n",
    "#     ground_sample_distance = band[\"gsd\"]\n",
    "#     print(f\"{name} {common_name}: {description} ({ground_sample_distance}m resolution)\")"
   ]
  },
  {
   "cell_type": "code",
   "execution_count": 150,
   "id": "e4c36273-87ee-419f-918b-d5cfe221d659",
   "metadata": {},
   "outputs": [],
   "source": [
    "area_of_interest = {\n",
    "    \"type\": \"Polygon\",\n",
    "    \"coordinates\": [\n",
    "        [\n",
    "            [7.2, 47.0],\n",
    "            [7.5, 47.0],\n",
    "            [7.5, 47.8],\n",
    "            [7.2, 47.8],\n",
    "            [7.2, 47.0],\n",
    "        ]\n",
    "    ],\n",
    "}\n",
    "time_range = \"2021-04-20/2021-09-26\"\n",
    "\n",
    "search = catalog_client.search(\n",
    "    intersects=area_of_interest, datetime=time_range\n",
    ")"
   ]
  },
  {
   "cell_type": "code",
   "execution_count": 151,
   "id": "68aeef4b-0ed6-4006-b12e-3ce192105c1e",
   "metadata": {},
   "outputs": [
    {
     "data": {
      "text/plain": [
       "<pystac_client.item_search.ItemSearch at 0x7f27848feeb0>"
      ]
     },
     "execution_count": 151,
     "metadata": {},
     "output_type": "execute_result"
    }
   ],
   "source": [
    "search"
   ]
  },
  {
   "cell_type": "code",
   "execution_count": 153,
   "id": "a665cbbd-fb3b-4612-b7cd-b1a5e3df5907",
   "metadata": {},
   "outputs": [],
   "source": [
    "items = list(search.get_items())\n",
    "for item in items:\n",
    "    print(f\"{item.id}: {item.datetime}\")"
   ]
  },
  {
   "cell_type": "markdown",
   "id": "1476662c-b326-430c-b3cb-e9e3707c71c7",
   "metadata": {},
   "source": [
    "### STAC Query backup\n",
    "\n",
    "There is a strange "
   ]
  },
  {
   "cell_type": "code",
   "execution_count": 13,
   "id": "9270ca51-18f2-4354-801f-1eb2fa30cb44",
   "metadata": {},
   "outputs": [],
   "source": [
    "catalog = Client.open(\"https://planetarycomputer.microsoft.com/api/stac/v1\")\n",
    "\n",
    "area_of_interest = {\n",
    "    \"type\": \"Polygon\",\n",
    "    \"coordinates\": [\n",
    "        [\n",
    "            [-122.27508544921875, 47.54687159892238],\n",
    "            [-121.96128845214844, 47.54687159892238],\n",
    "            [-121.96128845214844, 47.745787772920934],\n",
    "            [-122.27508544921875, 47.745787772920934],\n",
    "            [-122.27508544921875, 47.54687159892238],\n",
    "        ]\n",
    "    ],\n",
    "}\n",
    "\n",
    "time_range = \"2020-12-01/2020-12-31\"\n",
    "\n",
    "search = catalog.search(\n",
    "    collections=[\"landsat-8-c2-l2\"], intersects=area_of_interest, datetime=time_range\n",
    ")"
   ]
  },
  {
   "cell_type": "code",
   "execution_count": 14,
   "id": "615fe9de-df66-442e-8d40-daa9194e720d",
   "metadata": {},
   "outputs": [
    {
     "name": "stdout",
     "output_type": "stream",
     "text": [
      "LC08_L2SP_046027_20201229_02_T2: 2020-12-29 18:55:56.738265+00:00\n",
      "LC08_L2SP_047027_20201220_02_T2: 2020-12-20 19:02:09.878796+00:00\n",
      "LC08_L2SP_046027_20201213_02_T2: 2020-12-13 18:56:00.096447+00:00\n",
      "LC08_L2SP_047027_20201204_02_T1: 2020-12-04 19:02:11.194486+00:00\n"
     ]
    }
   ],
   "source": [
    "items = list(search.get_items())\n",
    "for item in items:\n",
    "    print(f\"{item.id}: {item.datetime}\")"
   ]
  }
 ],
 "metadata": {
  "kernelspec": {
   "display_name": "Python 3",
   "language": "python",
   "name": "python3"
  },
  "language_info": {
   "codemirror_mode": {
    "name": "ipython",
    "version": 3
   },
   "file_extension": ".py",
   "mimetype": "text/x-python",
   "name": "python",
   "nbconvert_exporter": "python",
   "pygments_lexer": "ipython3",
   "version": "3.9.7"
  }
 },
 "nbformat": 4,
 "nbformat_minor": 5
}
