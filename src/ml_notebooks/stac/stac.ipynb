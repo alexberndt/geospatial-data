{
 "cells": [
  {
   "cell_type": "markdown",
   "id": "36284179-311c-4ac1-a9c6-e7e834af61c4",
   "metadata": {},
   "source": [
    "# Introduction to STAC Part 2:\n",
    "\n",
    "In this tutorial, we will highlight how to create a simple STAC catalog using the python library PySTAC. We will refer back to the catalog of items we obtained from our Planet order and the corresponding analytic assets (our COGs stored in our Google Cloud Storage bucket)."
   ]
  },
  {
   "cell_type": "code",
   "execution_count": 1,
   "id": "8d694998-db0f-4ea2-9fa3-4a5d560375c9",
   "metadata": {},
   "outputs": [],
   "source": [
    "import pystac\n",
    "import os\n",
    "import json\n",
    "import requests\n",
    "import urllib.request\n",
    "import rasterio\n",
    "from tempfile import TemporaryDirectory\n",
    "from pathlib import Path\n",
    "import typing"
   ]
  },
  {
   "cell_type": "code",
   "execution_count": 2,
   "id": "c6787adc-144c-4106-9ea9-c16f2ef3a6ac",
   "metadata": {},
   "outputs": [
    {
     "data": {
      "text/plain": [
       "'1.0.0'"
      ]
     },
     "execution_count": 2,
     "metadata": {},
     "output_type": "execute_result"
    }
   ],
   "source": [
    "pystac.get_stac_version()"
   ]
  },
  {
   "cell_type": "code",
   "execution_count": 3,
   "id": "aac397b3-4281-47aa-809f-30aff0fb23ca",
   "metadata": {},
   "outputs": [],
   "source": [
    "catalog = pystac.Catalog(id='sample-catalog', description='Simple STAC catalog.')"
   ]
  },
  {
   "cell_type": "code",
   "execution_count": 4,
   "id": "b01f35e9-ebba-4adf-bc4c-fd9289d088a6",
   "metadata": {},
   "outputs": [
    {
     "name": "stdout",
     "output_type": "stream",
     "text": [
      "[]\n",
      "[]\n"
     ]
    }
   ],
   "source": [
    "print(list(catalog.get_all_items()))\n",
    "print(list(catalog.get_children()))"
   ]
  },
  {
   "cell_type": "code",
   "execution_count": 13,
   "id": "b5210d3b-b248-4a9b-8cb7-928112e7a305",
   "metadata": {},
   "outputs": [],
   "source": [
    "import requests\n",
    "from requests.auth import HTTPBasicAuth\n",
    "import json\n",
    "\n",
    "## Get Planet API key stored as an environment variable on your system\n",
    "PLANET_API_KEY = os.getenv('PLANET_API_KEY')\n",
    "\n",
    "## HTTP Basic Authentication\n",
    "planet_auth = HTTPBasicAuth(PLANET_API_KEY, '')\n",
    "\n",
    "# set content type to json\n",
    "headers = {'content-type': 'application/json'}"
   ]
  },
  {
   "cell_type": "code",
   "execution_count": 14,
   "id": "61bd2823-da19-40ad-9d0c-3cc66028d74e",
   "metadata": {},
   "outputs": [],
   "source": [
    "# Base Order URL\n",
    "planet_orders_url = 'https://api.planet.com/compute/ops/orders/v2'\n",
    "\n",
    "# order id\n",
    "order_id = 'cb363b75-b4e4-46f1-8d32-0ef87afb6215'"
   ]
  },
  {
   "cell_type": "code",
   "execution_count": 16,
   "id": "96277a0a-1545-4932-8dce-ea046b3725e3",
   "metadata": {},
   "outputs": [],
   "source": [
    "item_ids = [\n",
    "         '20210515_145754_03_245c',\n",
    "         '20210514_145807_70_2455',\n",
    "]"
   ]
  },
  {
   "cell_type": "markdown",
   "id": "70947b9f-cdee-4e09-a501-c75ff01eb5b9",
   "metadata": {},
   "source": [
    "## Microsoft Dask"
   ]
  },
  {
   "cell_type": "code",
   "execution_count": 6,
   "id": "182eb910-fbf1-4805-aac8-8acc6947b417",
   "metadata": {},
   "outputs": [
    {
     "name": "stderr",
     "output_type": "stream",
     "text": [
      "/home/alex/github_repos/ml-notebooks/.venv/lib/python3.8/site-packages/dask_gateway/client.py:21: FutureWarning: format_bytes is deprecated and will be removed in a future release. Please use dask.utils.format_bytes instead.\n",
      "  from distributed.utils import LoopRunner, format_bytes\n"
     ]
    }
   ],
   "source": [
    "import numpy as np\n",
    "import xarray as xr\n",
    "\n",
    "import rasterio.features\n",
    "import stackstac\n",
    "import pystac_client\n",
    "import planetary_computer\n",
    "\n",
    "import xrspatial.multispectral as ms\n",
    "\n",
    "from dask_gateway import GatewayCluster"
   ]
  }
 ],
 "metadata": {
  "kernelspec": {
   "display_name": "Python 3",
   "language": "python",
   "name": "python3"
  },
  "language_info": {
   "codemirror_mode": {
    "name": "ipython",
    "version": 3
   },
   "file_extension": ".py",
   "mimetype": "text/x-python",
   "name": "python",
   "nbconvert_exporter": "python",
   "pygments_lexer": "ipython3",
   "version": "3.8.10"
  }
 },
 "nbformat": 4,
 "nbformat_minor": 5
}
